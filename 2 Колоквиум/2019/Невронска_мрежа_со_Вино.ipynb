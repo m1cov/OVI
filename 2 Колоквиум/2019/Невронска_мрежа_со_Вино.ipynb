{
 "cells": [
  {
   "cell_type": "markdown",
   "metadata": {},
   "source": [
    "## Задача 3 - Невронски мрежи и процедура за тренирање на модел од областа машинско учење\n",
    "\n",
    "За дадено множество податоци од хемиска анализа на вино, целта е да се класифицира лозата на дадено вино. Податоците се за вино од 3 различни вински лози. Повеќе прочитајте [тука](http://archive.ics.uci.edu/ml/datasets/Wine).\n",
    "\n",
    "__3.1__: \n",
    "*  [Вчитајте ги податоците](https://scikit-learn.org/stable/modules/generated/sklearn.datasets.load_wine.html?highlight=wine#sklearn.datasets.load_wine).\n",
    "*  Поделете ги на множество за обучување и множество за тест.\n",
    "*  Обучете [невронска мрежа](https://scikit-learn.org/stable/modules/generated/sklearn.neural_network.MLPClassifier.html) за овие податоци.\n",
    "*  Искористете ја обучената мрежа за да предвидите дадено вино од која винска лоза е направено.\n",
    "*  Направете анализа за прециозноста на невронската мрежа при класификација.\n",
    "\n",
    "__3.2__: На кој начин ја обучувате невронската мрежа? Опишете го тој начин во една реченица. \n",
    "\n",
    "__3.3__: Што всушност значи да се обучи една невронска мрежа?\n",
    "\n",
    "__3.4__: Како да проверите дали штотуку обучената невронска мрежа добро предвидува?\n",
    "\n",
    "__3.5__: Направете споредба на тоа што очекувате да се случи ако на една невронска мрежа поставите (1) релативно малку неврони во само еден скриен слој за разлика од тоа да поставите (2) релативно многу неврони во повеќе скриени слоеви."
   ]
  },
  {
   "cell_type": "markdown",
   "metadata": {},
   "source": [
    "# 3.1"
   ]
  },
  {
   "cell_type": "code",
   "execution_count": 1,
   "metadata": {},
   "outputs": [],
   "source": [
    "from sklearn.datasets import load_wine"
   ]
  },
  {
   "cell_type": "code",
   "execution_count": 2,
   "metadata": {},
   "outputs": [],
   "source": [
    "from sklearn.neural_network import MLPClassifier\n",
    "from sklearn.metrics import accuracy_score\n",
    "from sklearn.model_selection import train_test_split"
   ]
  },
  {
   "cell_type": "code",
   "execution_count": 3,
   "metadata": {},
   "outputs": [],
   "source": [
    "import pandas as pd"
   ]
  },
  {
   "cell_type": "code",
   "execution_count": 4,
   "metadata": {},
   "outputs": [],
   "source": [
    "data = load_wine()"
   ]
  },
  {
   "cell_type": "code",
   "execution_count": 5,
   "metadata": {},
   "outputs": [],
   "source": [
    "X = data.data\n",
    "y = data.target"
   ]
  },
  {
   "cell_type": "code",
   "execution_count": 65,
   "metadata": {},
   "outputs": [],
   "source": [
    "X_train, X_test, y_train, y_test = train_test_split(X, y, random_state = 10, test_size = 0.3)"
   ]
  },
  {
   "cell_type": "code",
   "execution_count": 126,
   "metadata": {},
   "outputs": [],
   "source": [
    "clf = MLPClassifier(max_iter = 350)"
   ]
  },
  {
   "cell_type": "code",
   "execution_count": 127,
   "metadata": {},
   "outputs": [
    {
     "data": {
      "text/plain": [
       "MLPClassifier(max_iter=350)"
      ]
     },
     "execution_count": 127,
     "metadata": {},
     "output_type": "execute_result"
    }
   ],
   "source": [
    "clf.fit(X_train, y_train)"
   ]
  },
  {
   "cell_type": "code",
   "execution_count": 128,
   "metadata": {},
   "outputs": [],
   "source": [
    "y_pred = clf.predict(X_test)"
   ]
  },
  {
   "cell_type": "code",
   "execution_count": 129,
   "metadata": {},
   "outputs": [
    {
     "name": "stdout",
     "output_type": "stream",
     "text": [
      "Accuracy Score on train data:  0.6693548387096774\n",
      "Accuracy Score on test data:  0.6111111111111112\n"
     ]
    }
   ],
   "source": [
    "print('Accuracy Score on train data: ', accuracy_score(y_true=y_train, y_pred=clf.predict(X_train)))\n",
    "print('Accuracy Score on test data: ', accuracy_score(y_true=y_test, y_pred=y_pred))"
   ]
  },
  {
   "cell_type": "markdown",
   "metadata": {},
   "source": [
    "Прецизноста на невронската мрежа е околу 70%, што не е најдобро, меѓутоа со слична прецизност ги предвидува и вината на кои тренирала и оние што првпат ги видела, т.ш може да се заклучи дека релативно добро научила."
   ]
  },
  {
   "cell_type": "markdown",
   "metadata": {},
   "source": [
    "# 3.2"
   ]
  },
  {
   "cell_type": "markdown",
   "metadata": {},
   "source": [
    "Невронската мрежа се обучува преку проба и грешка, на тој начин што ги нагодува тежините помегу перцептроните во зависност од грешката на излез. Оваа мрежа има 3 излезни перцептрони кои ги означуваат трите класи вина. Според зададениот излез, мрежата ја пресметува грешката и во зависност од нејзиниот градиент, ги нагодува тежините, т.ш грешката се намали во следната итерација. Истото се повторува се додека функцијата на грешка не достигне минимум, т.е додека мрежата не конвергира. Во мрежата има повеќе скриени слоеви со повеќе перцептрони, кои со своите активирачки функции внесуваат нелинеарност во мрежата, т.е овозможуваат класификација на повеќе од две класи."
   ]
  },
  {
   "cell_type": "markdown",
   "metadata": {},
   "source": [
    "# 3.3"
   ]
  },
  {
   "cell_type": "markdown",
   "metadata": {},
   "source": [
    "Да се обучи една невронска мрежа значи врз база на познати податоци и излези да се нагоди мрежата, т.е да се најде функција која најдобро ќе ги опише податоците. Потоа тој модел предвидува кој е излезот за податоци кои дотогаш не ги видел."
   ]
  },
  {
   "cell_type": "markdown",
   "metadata": {},
   "source": [
    "# 3.4"
   ]
  },
  {
   "cell_type": "markdown",
   "metadata": {},
   "source": [
    "Врз база на излезите y_test може да се види дека мрежата предвидува со точност од околу 75%"
   ]
  },
  {
   "cell_type": "markdown",
   "metadata": {},
   "source": [
    "# 3.5"
   ]
  },
  {
   "cell_type": "markdown",
   "metadata": {},
   "source": [
    "Ако поставиме релативно малку неврони во еден скриен слој, тоа може да биде проблем кога се работи за големо множество податоци со повеќе класи, бидејќи мрежата нема да ја има потребната комплексност за да научи, т.ш ќе работи со лоша прецизност, односно настанува unferfitting. Од друга страна, ако поставиме многу неврони во повеќе скриени слоеви, мрежата ќе биде со голема комплексност, па алгоритамот може да преучи, т.е да настане overfitting, да има одлична точност за предвидување на податоци што веќе ги видел, но лоша прецизност за податоци што првпат ги гледа."
   ]
  },
  {
   "cell_type": "code",
   "execution_count": null,
   "metadata": {},
   "outputs": [],
   "source": []
  }
 ],
 "metadata": {
  "kernelspec": {
   "display_name": "Python 3 (ipykernel)",
   "language": "python",
   "name": "python3"
  },
  "language_info": {
   "codemirror_mode": {
    "name": "ipython",
    "version": 3
   },
   "file_extension": ".py",
   "mimetype": "text/x-python",
   "name": "python",
   "nbconvert_exporter": "python",
   "pygments_lexer": "ipython3",
   "version": "3.9.13"
  }
 },
 "nbformat": 4,
 "nbformat_minor": 4
}
