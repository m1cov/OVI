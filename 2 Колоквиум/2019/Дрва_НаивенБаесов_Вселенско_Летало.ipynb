{
 "cells": [
  {
   "cell_type": "markdown",
   "id": "c6242a4f-ac04-4dc9-b22c-3908a2dc88cb",
   "metadata": {},
   "source": [
    "Задача 2 - Дрва на одлучување и Наивен Баесов класификатор¶\n",
    "Дадени се податоци за слетување на вселенско летало. Последната колона Landing го кажува начинот на кој е слетано леталото, автоматски или рачно. Оваа колона е излезната колона.\n",
    "\n",
    "2.1: Нацртајте го дрвото на одлучување.\n",
    "\n",
    "Дадени се податоци за ново слетување.\n",
    "\n",
    "Stability - stab\n",
    "Wind - head\n",
    "Magnitude - low\n",
    "Visibility - yes\n",
    "\n",
    "2.2: Дали летатото да користи автоматски или рачен начин на слетување? Што вели дрвото на одлучување, а што вели наивниот Баесов класификатор?\n",
    "\n",
    "2.3: Накратко опишете ја постапката по која постапивте за да го создадете дрвото на одлучување.\n",
    "\n",
    "2.4: Зошто наивниот Беасов алгоритам се нарекува \"наивен\", а зошто \"Баесов\"?"
   ]
  },
  {
   "cell_type": "code",
   "execution_count": 1,
   "id": "b59cb1fe-7ace-4f09-87d1-000e040c43b0",
   "metadata": {},
   "outputs": [
    {
     "data": {
      "text/html": [
       "<div>\n",
       "<style scoped>\n",
       "    .dataframe tbody tr th:only-of-type {\n",
       "        vertical-align: middle;\n",
       "    }\n",
       "\n",
       "    .dataframe tbody tr th {\n",
       "        vertical-align: top;\n",
       "    }\n",
       "\n",
       "    .dataframe thead th {\n",
       "        text-align: right;\n",
       "    }\n",
       "</style>\n",
       "<table border=\"1\" class=\"dataframe\">\n",
       "  <thead>\n",
       "    <tr style=\"text-align: right;\">\n",
       "      <th></th>\n",
       "      <th>Stability</th>\n",
       "      <th>Wind</th>\n",
       "      <th>Magnitude</th>\n",
       "      <th>Visibility</th>\n",
       "      <th>Landing</th>\n",
       "    </tr>\n",
       "  </thead>\n",
       "  <tbody>\n",
       "    <tr>\n",
       "      <th>0</th>\n",
       "      <td>stab</td>\n",
       "      <td>head</td>\n",
       "      <td>low</td>\n",
       "      <td>no</td>\n",
       "      <td>auto</td>\n",
       "    </tr>\n",
       "    <tr>\n",
       "      <th>1</th>\n",
       "      <td>xstab</td>\n",
       "      <td>tail</td>\n",
       "      <td>low</td>\n",
       "      <td>yes</td>\n",
       "      <td>manual</td>\n",
       "    </tr>\n",
       "    <tr>\n",
       "      <th>2</th>\n",
       "      <td>stab</td>\n",
       "      <td>tail</td>\n",
       "      <td>low</td>\n",
       "      <td>yes</td>\n",
       "      <td>manual</td>\n",
       "    </tr>\n",
       "    <tr>\n",
       "      <th>3</th>\n",
       "      <td>xstab</td>\n",
       "      <td>head</td>\n",
       "      <td>medium</td>\n",
       "      <td>yes</td>\n",
       "      <td>manual</td>\n",
       "    </tr>\n",
       "    <tr>\n",
       "      <th>4</th>\n",
       "      <td>stab</td>\n",
       "      <td>head</td>\n",
       "      <td>low</td>\n",
       "      <td>yes</td>\n",
       "      <td>auto</td>\n",
       "    </tr>\n",
       "    <tr>\n",
       "      <th>5</th>\n",
       "      <td>stab</td>\n",
       "      <td>tail</td>\n",
       "      <td>medium</td>\n",
       "      <td>yes</td>\n",
       "      <td>auto</td>\n",
       "    </tr>\n",
       "    <tr>\n",
       "      <th>6</th>\n",
       "      <td>stab</td>\n",
       "      <td>head</td>\n",
       "      <td>medium</td>\n",
       "      <td>yes</td>\n",
       "      <td>auto</td>\n",
       "    </tr>\n",
       "    <tr>\n",
       "      <th>7</th>\n",
       "      <td>stab</td>\n",
       "      <td>head</td>\n",
       "      <td>medium</td>\n",
       "      <td>no</td>\n",
       "      <td>manual</td>\n",
       "    </tr>\n",
       "  </tbody>\n",
       "</table>\n",
       "</div>"
      ],
      "text/plain": [
       "  Stability  Wind Magnitude Visibility Landing\n",
       "0      stab  head       low         no    auto\n",
       "1     xstab  tail       low        yes  manual\n",
       "2      stab  tail       low        yes  manual\n",
       "3     xstab  head    medium        yes  manual\n",
       "4      stab  head       low        yes    auto\n",
       "5      stab  tail    medium        yes    auto\n",
       "6      stab  head    medium        yes    auto\n",
       "7      stab  head    medium         no  manual"
      ]
     },
     "execution_count": 1,
     "metadata": {},
     "output_type": "execute_result"
    }
   ],
   "source": [
    "import pandas as pd\n",
    "\n",
    "df = pd.read_csv('shuttle-landing-control.data')\n",
    "df"
   ]
  },
  {
   "cell_type": "markdown",
   "id": "6ddf35a5-496d-431e-81db-9e968cf9e298",
   "metadata": {},
   "source": [
    "# Дрво на одлучување"
   ]
  },
  {
   "cell_type": "code",
   "execution_count": 3,
   "id": "665e515d-2687-4cb5-ae47-11545070c0fa",
   "metadata": {},
   "outputs": [],
   "source": [
    "from sklearn.tree import DecisionTreeClassifier\n",
    "from sklearn import tree\n",
    "from sklearn.model_selection import train_test_split\n",
    "from sklearn.metrics import accuracy_score"
   ]
  },
  {
   "cell_type": "code",
   "execution_count": 17,
   "id": "8f76e695-3d17-4c67-8300-0f35b976d138",
   "metadata": {},
   "outputs": [],
   "source": [
    "df.loc[df['Stability'] == 'stab', 'Stability'] = True\n",
    "df.loc[df['Stability'] == 'xstab', 'Stability'] = False\n",
    "df.loc[df['Wind'] == 'head', 'Wind'] = 0 # head == 0\n",
    "df.loc[df['Wind'] == 'tail', 'Wind'] = 1 # tail == 1\n",
    "df.loc[df['Visibility'] == 'yes', 'Visibility'] = True\n",
    "df.loc[df['Visibility'] == 'no', 'Visibility'] = False\n",
    "df.loc[df['Magnitude'] == 'low', 'Magnitude'] = 0 # low == 0\n",
    "df.loc[df['Magnitude'] == 'medium', 'Magnitude'] = 1 # medium == 1"
   ]
  },
  {
   "cell_type": "code",
   "execution_count": 18,
   "id": "9e9e3e21-0504-4913-b2a2-b8858413369c",
   "metadata": {},
   "outputs": [
    {
     "data": {
      "text/html": [
       "<div>\n",
       "<style scoped>\n",
       "    .dataframe tbody tr th:only-of-type {\n",
       "        vertical-align: middle;\n",
       "    }\n",
       "\n",
       "    .dataframe tbody tr th {\n",
       "        vertical-align: top;\n",
       "    }\n",
       "\n",
       "    .dataframe thead th {\n",
       "        text-align: right;\n",
       "    }\n",
       "</style>\n",
       "<table border=\"1\" class=\"dataframe\">\n",
       "  <thead>\n",
       "    <tr style=\"text-align: right;\">\n",
       "      <th></th>\n",
       "      <th>Stability</th>\n",
       "      <th>Wind</th>\n",
       "      <th>Magnitude</th>\n",
       "      <th>Visibility</th>\n",
       "      <th>Landing</th>\n",
       "    </tr>\n",
       "  </thead>\n",
       "  <tbody>\n",
       "    <tr>\n",
       "      <th>0</th>\n",
       "      <td>True</td>\n",
       "      <td>0</td>\n",
       "      <td>0</td>\n",
       "      <td>False</td>\n",
       "      <td>auto</td>\n",
       "    </tr>\n",
       "    <tr>\n",
       "      <th>1</th>\n",
       "      <td>False</td>\n",
       "      <td>1</td>\n",
       "      <td>0</td>\n",
       "      <td>True</td>\n",
       "      <td>manual</td>\n",
       "    </tr>\n",
       "    <tr>\n",
       "      <th>2</th>\n",
       "      <td>True</td>\n",
       "      <td>1</td>\n",
       "      <td>0</td>\n",
       "      <td>True</td>\n",
       "      <td>manual</td>\n",
       "    </tr>\n",
       "    <tr>\n",
       "      <th>3</th>\n",
       "      <td>False</td>\n",
       "      <td>0</td>\n",
       "      <td>1</td>\n",
       "      <td>True</td>\n",
       "      <td>manual</td>\n",
       "    </tr>\n",
       "    <tr>\n",
       "      <th>4</th>\n",
       "      <td>True</td>\n",
       "      <td>0</td>\n",
       "      <td>0</td>\n",
       "      <td>True</td>\n",
       "      <td>auto</td>\n",
       "    </tr>\n",
       "    <tr>\n",
       "      <th>5</th>\n",
       "      <td>True</td>\n",
       "      <td>1</td>\n",
       "      <td>1</td>\n",
       "      <td>True</td>\n",
       "      <td>auto</td>\n",
       "    </tr>\n",
       "    <tr>\n",
       "      <th>6</th>\n",
       "      <td>True</td>\n",
       "      <td>0</td>\n",
       "      <td>1</td>\n",
       "      <td>True</td>\n",
       "      <td>auto</td>\n",
       "    </tr>\n",
       "    <tr>\n",
       "      <th>7</th>\n",
       "      <td>True</td>\n",
       "      <td>0</td>\n",
       "      <td>1</td>\n",
       "      <td>False</td>\n",
       "      <td>manual</td>\n",
       "    </tr>\n",
       "  </tbody>\n",
       "</table>\n",
       "</div>"
      ],
      "text/plain": [
       "  Stability Wind Magnitude Visibility Landing\n",
       "0      True    0         0      False    auto\n",
       "1     False    1         0       True  manual\n",
       "2      True    1         0       True  manual\n",
       "3     False    0         1       True  manual\n",
       "4      True    0         0       True    auto\n",
       "5      True    1         1       True    auto\n",
       "6      True    0         1       True    auto\n",
       "7      True    0         1      False  manual"
      ]
     },
     "execution_count": 18,
     "metadata": {},
     "output_type": "execute_result"
    }
   ],
   "source": [
    "df"
   ]
  },
  {
   "cell_type": "code",
   "execution_count": 19,
   "id": "c2a42a3e-667b-4bbc-85e6-3a2383e08af4",
   "metadata": {},
   "outputs": [
    {
     "data": {
      "text/html": [
       "<div>\n",
       "<style scoped>\n",
       "    .dataframe tbody tr th:only-of-type {\n",
       "        vertical-align: middle;\n",
       "    }\n",
       "\n",
       "    .dataframe tbody tr th {\n",
       "        vertical-align: top;\n",
       "    }\n",
       "\n",
       "    .dataframe thead th {\n",
       "        text-align: right;\n",
       "    }\n",
       "</style>\n",
       "<table border=\"1\" class=\"dataframe\">\n",
       "  <thead>\n",
       "    <tr style=\"text-align: right;\">\n",
       "      <th></th>\n",
       "      <th>Stability</th>\n",
       "      <th>Wind</th>\n",
       "      <th>Magnitude</th>\n",
       "      <th>Visibility</th>\n",
       "    </tr>\n",
       "  </thead>\n",
       "  <tbody>\n",
       "    <tr>\n",
       "      <th>0</th>\n",
       "      <td>True</td>\n",
       "      <td>0</td>\n",
       "      <td>0</td>\n",
       "      <td>False</td>\n",
       "    </tr>\n",
       "    <tr>\n",
       "      <th>1</th>\n",
       "      <td>False</td>\n",
       "      <td>1</td>\n",
       "      <td>0</td>\n",
       "      <td>True</td>\n",
       "    </tr>\n",
       "    <tr>\n",
       "      <th>2</th>\n",
       "      <td>True</td>\n",
       "      <td>1</td>\n",
       "      <td>0</td>\n",
       "      <td>True</td>\n",
       "    </tr>\n",
       "    <tr>\n",
       "      <th>3</th>\n",
       "      <td>False</td>\n",
       "      <td>0</td>\n",
       "      <td>1</td>\n",
       "      <td>True</td>\n",
       "    </tr>\n",
       "    <tr>\n",
       "      <th>4</th>\n",
       "      <td>True</td>\n",
       "      <td>0</td>\n",
       "      <td>0</td>\n",
       "      <td>True</td>\n",
       "    </tr>\n",
       "    <tr>\n",
       "      <th>5</th>\n",
       "      <td>True</td>\n",
       "      <td>1</td>\n",
       "      <td>1</td>\n",
       "      <td>True</td>\n",
       "    </tr>\n",
       "    <tr>\n",
       "      <th>6</th>\n",
       "      <td>True</td>\n",
       "      <td>0</td>\n",
       "      <td>1</td>\n",
       "      <td>True</td>\n",
       "    </tr>\n",
       "    <tr>\n",
       "      <th>7</th>\n",
       "      <td>True</td>\n",
       "      <td>0</td>\n",
       "      <td>1</td>\n",
       "      <td>False</td>\n",
       "    </tr>\n",
       "  </tbody>\n",
       "</table>\n",
       "</div>"
      ],
      "text/plain": [
       "  Stability Wind Magnitude Visibility\n",
       "0      True    0         0      False\n",
       "1     False    1         0       True\n",
       "2      True    1         0       True\n",
       "3     False    0         1       True\n",
       "4      True    0         0       True\n",
       "5      True    1         1       True\n",
       "6      True    0         1       True\n",
       "7      True    0         1      False"
      ]
     },
     "execution_count": 19,
     "metadata": {},
     "output_type": "execute_result"
    }
   ],
   "source": [
    "X = df.drop(columns = 'Landing')\n",
    "X"
   ]
  },
  {
   "cell_type": "code",
   "execution_count": 20,
   "id": "040faae0-d8c6-4b62-8c31-4c713afe99e6",
   "metadata": {},
   "outputs": [
    {
     "data": {
      "text/plain": [
       "0      auto\n",
       "1    manual\n",
       "2    manual\n",
       "3    manual\n",
       "4      auto\n",
       "5      auto\n",
       "6      auto\n",
       "7    manual\n",
       "Name: Landing, dtype: object"
      ]
     },
     "execution_count": 20,
     "metadata": {},
     "output_type": "execute_result"
    }
   ],
   "source": [
    "y = df.Landing\n",
    "y"
   ]
  },
  {
   "cell_type": "code",
   "execution_count": 26,
   "id": "074845e1-4a97-4557-b029-b92690ce53bb",
   "metadata": {},
   "outputs": [],
   "source": [
    "X_train, X_test, y_train, y_test = train_test_split(X, y, random_state = 53, test_size = 1/8)"
   ]
  },
  {
   "cell_type": "code",
   "execution_count": 27,
   "id": "1366472f-0656-4acb-abc4-324627b6ff36",
   "metadata": {},
   "outputs": [],
   "source": [
    "clf = DecisionTreeClassifier()"
   ]
  },
  {
   "cell_type": "code",
   "execution_count": 28,
   "id": "ff1d74e5-639c-4f9c-afae-69652c5cec9a",
   "metadata": {},
   "outputs": [
    {
     "data": {
      "text/plain": [
       "DecisionTreeClassifier()"
      ]
     },
     "execution_count": 28,
     "metadata": {},
     "output_type": "execute_result"
    }
   ],
   "source": [
    "clf.fit(X_train, y_train)"
   ]
  },
  {
   "cell_type": "code",
   "execution_count": 29,
   "id": "1e172e29-d800-4669-b764-4559604d53ca",
   "metadata": {},
   "outputs": [],
   "source": [
    "y_pred = clf.predict(X_test)"
   ]
  },
  {
   "cell_type": "code",
   "execution_count": 30,
   "id": "fbf146fb-044e-4315-933d-a6d64c83e1eb",
   "metadata": {},
   "outputs": [
    {
     "name": "stdout",
     "output_type": "stream",
     "text": [
      "Accuracy Score on train data:  1.0\n",
      "Accuracy Score on test data:  1.0\n"
     ]
    }
   ],
   "source": [
    "print('Accuracy Score on train data: ', accuracy_score(y_true=y_train, y_pred=clf.predict(X_train)))\n",
    "print('Accuracy Score on test data: ', accuracy_score(y_true=y_test, y_pred=y_pred))"
   ]
  },
  {
   "cell_type": "code",
   "execution_count": 31,
   "id": "7d36e048-e65c-493f-a94b-108c2642a3b6",
   "metadata": {},
   "outputs": [
    {
     "data": {
      "text/plain": [
       "[Text(0.4444444444444444, 0.9, 'Stability <= 0.5\\ngini = 0.49\\nsamples = 7\\nvalue = [3, 4]\\nclass = manual'),\n",
       " Text(0.3333333333333333, 0.7, 'gini = 0.0\\nsamples = 2\\nvalue = [0, 2]\\nclass = manual'),\n",
       " Text(0.5555555555555556, 0.7, 'Wind <= 0.5\\ngini = 0.48\\nsamples = 5\\nvalue = [3, 2]\\nclass = auto'),\n",
       " Text(0.3333333333333333, 0.5, 'Visibility <= 0.5\\ngini = 0.444\\nsamples = 3\\nvalue = [2, 1]\\nclass = auto'),\n",
       " Text(0.2222222222222222, 0.3, 'Magnitude <= 0.5\\ngini = 0.5\\nsamples = 2\\nvalue = [1, 1]\\nclass = auto'),\n",
       " Text(0.1111111111111111, 0.1, 'gini = 0.0\\nsamples = 1\\nvalue = [1, 0]\\nclass = auto'),\n",
       " Text(0.3333333333333333, 0.1, 'gini = 0.0\\nsamples = 1\\nvalue = [0, 1]\\nclass = manual'),\n",
       " Text(0.4444444444444444, 0.3, 'gini = 0.0\\nsamples = 1\\nvalue = [1, 0]\\nclass = auto'),\n",
       " Text(0.7777777777777778, 0.5, 'Magnitude <= 0.5\\ngini = 0.5\\nsamples = 2\\nvalue = [1, 1]\\nclass = auto'),\n",
       " Text(0.6666666666666666, 0.3, 'gini = 0.0\\nsamples = 1\\nvalue = [0, 1]\\nclass = manual'),\n",
       " Text(0.8888888888888888, 0.3, 'gini = 0.0\\nsamples = 1\\nvalue = [1, 0]\\nclass = auto')]"
      ]
     },
     "execution_count": 31,
     "metadata": {},
     "output_type": "execute_result"
    },
    {
     "data": {
      "image/png": "[encoded data removed]",
      "text/plain": [
       "<Figure size 640x480 with 1 Axes>"
      ]
     },
     "metadata": {},
     "output_type": "display_data"
    }
   ],
   "source": [
    "tree.plot_tree(clf, feature_names = X_train.columns, class_names = ['auto','manual'])"
   ]
  },
  {
   "cell_type": "code",
   "execution_count": 32,
   "id": "564d9c46-fc21-418e-830c-11323549be4b",
   "metadata": {},
   "outputs": [
    {
     "data": {
      "text/plain": [
       "(  Stability Wind Magnitude Visibility\n",
       " 0      True    0         0      False\n",
       " 2      True    1         0       True\n",
       " 7      True    0         1      False\n",
       " 3     False    0         1       True\n",
       " 6      True    0         1       True\n",
       " 5      True    1         1       True\n",
       " 1     False    1         0       True,\n",
       " 0      auto\n",
       " 2    manual\n",
       " 7    manual\n",
       " 3    manual\n",
       " 6      auto\n",
       " 5      auto\n",
       " 1    manual\n",
       " Name: Landing, dtype: object)"
      ]
     },
     "execution_count": 32,
     "metadata": {},
     "output_type": "execute_result"
    }
   ],
   "source": [
    "X_train, y_train"
   ]
  },
  {
   "cell_type": "code",
   "execution_count": 33,
   "id": "88258f19-d685-407d-8dfa-c644744d5a42",
   "metadata": {},
   "outputs": [
    {
     "data": {
      "text/html": [
       "<div>\n",
       "<style scoped>\n",
       "    .dataframe tbody tr th:only-of-type {\n",
       "        vertical-align: middle;\n",
       "    }\n",
       "\n",
       "    .dataframe tbody tr th {\n",
       "        vertical-align: top;\n",
       "    }\n",
       "\n",
       "    .dataframe thead th {\n",
       "        text-align: right;\n",
       "    }\n",
       "</style>\n",
       "<table border=\"1\" class=\"dataframe\">\n",
       "  <thead>\n",
       "    <tr style=\"text-align: right;\">\n",
       "      <th></th>\n",
       "      <th>Stability</th>\n",
       "      <th>Wind</th>\n",
       "      <th>Magnitude</th>\n",
       "      <th>Visibility</th>\n",
       "    </tr>\n",
       "  </thead>\n",
       "  <tbody>\n",
       "    <tr>\n",
       "      <th>0</th>\n",
       "      <td>True</td>\n",
       "      <td>0</td>\n",
       "      <td>0</td>\n",
       "      <td>True</td>\n",
       "    </tr>\n",
       "  </tbody>\n",
       "</table>\n",
       "</div>"
      ],
      "text/plain": [
       "   Stability  Wind  Magnitude  Visibility\n",
       "0       True     0          0        True"
      ]
     },
     "execution_count": 33,
     "metadata": {},
     "output_type": "execute_result"
    }
   ],
   "source": [
    "X_pred = {'Stability':True,'Wind':0,'Magnitude':0,'Visibility':True}\n",
    "X_pred = pd.DataFrame(X_pred,index = [0])\n",
    "X_pred"
   ]
  },
  {
   "cell_type": "code",
   "execution_count": 34,
   "id": "d42f305d-334d-4e82-a325-d4bbf0368094",
   "metadata": {},
   "outputs": [
    {
     "data": {
      "text/plain": [
       "array(['auto'], dtype=object)"
      ]
     },
     "execution_count": 34,
     "metadata": {},
     "output_type": "execute_result"
    }
   ],
   "source": [
    "y_pred_landing = clf.predict(X_pred)\n",
    "y_pred_landing"
   ]
  },
  {
   "cell_type": "markdown",
   "id": "a056cf06-7a76-4cd7-8c46-25d20cbb6d5a",
   "metadata": {},
   "source": [
    "Според дрвото на одлука, леталото треба да слета автоматски"
   ]
  },
  {
   "cell_type": "markdown",
   "id": "43dc3e0a-f0c1-4424-8658-bf6015aa1545",
   "metadata": {},
   "source": [
    "# Наивен Баесов алгоритам"
   ]
  },
  {
   "cell_type": "code",
   "execution_count": 35,
   "id": "54ba817b-4a64-45d1-b2e4-f4058efaddc4",
   "metadata": {},
   "outputs": [],
   "source": [
    "from sklearn.model_selection import train_test_split\n",
    "from sklearn.naive_bayes import MultinomialNB\n",
    "from sklearn.metrics import accuracy_score\n",
    "from sklearn import tree"
   ]
  },
  {
   "cell_type": "code",
   "execution_count": 36,
   "id": "28949c77-e397-4503-85d1-02a7c1d26715",
   "metadata": {},
   "outputs": [],
   "source": [
    "nb = MultinomialNB()"
   ]
  },
  {
   "cell_type": "code",
   "execution_count": 37,
   "id": "db3e9fef-ef77-4cc2-aa07-231e2f98a66c",
   "metadata": {},
   "outputs": [
    {
     "data": {
      "text/plain": [
       "MultinomialNB()"
      ]
     },
     "execution_count": 37,
     "metadata": {},
     "output_type": "execute_result"
    }
   ],
   "source": [
    "nb.fit(X_train, y_train)"
   ]
  },
  {
   "cell_type": "code",
   "execution_count": 38,
   "id": "24feca86-01ce-4796-a823-66ed8fe436da",
   "metadata": {},
   "outputs": [],
   "source": [
    "y_pred1 = nb.predict(X_test)"
   ]
  },
  {
   "cell_type": "code",
   "execution_count": 39,
   "id": "0f54b930-4be7-4aa2-a0f0-6ab13d2fa3c6",
   "metadata": {},
   "outputs": [
    {
     "name": "stdout",
     "output_type": "stream",
     "text": [
      "Accuracy Score on train data:  0.5714285714285714\n",
      "Accuracy Score on test data:  0.0\n"
     ]
    }
   ],
   "source": [
    "print('Accuracy Score on train data: ', accuracy_score(y_true=y_train, y_pred=nb.predict(X_train)))\n",
    "print('Accuracy Score on test data: ', accuracy_score(y_true=y_test, y_pred=y_pred1))"
   ]
  },
  {
   "cell_type": "code",
   "execution_count": 40,
   "id": "a6d04aa0-4284-43de-9a44-17c7cae366d5",
   "metadata": {},
   "outputs": [
    {
     "data": {
      "text/plain": [
       "array(['auto'], dtype=object)"
      ]
     },
     "execution_count": 40,
     "metadata": {},
     "output_type": "execute_result"
    }
   ],
   "source": [
    "y_pred_landing1 = nb.predict(X_pred)\n",
    "y_pred_landing"
   ]
  },
  {
   "cell_type": "markdown",
   "id": "bd5ec499-b145-4200-a090-b67f41c1d11f",
   "metadata": {},
   "source": [
    " И со Наивниот Баесов класификатор се доби истото решение"
   ]
  },
  {
   "cell_type": "code",
   "execution_count": 41,
   "id": "1da96f52-2b84-46f5-9d1a-2eba9c397e9c",
   "metadata": {},
   "outputs": [
    {
     "data": {
      "text/html": [
       "<div>\n",
       "<style scoped>\n",
       "    .dataframe tbody tr th:only-of-type {\n",
       "        vertical-align: middle;\n",
       "    }\n",
       "\n",
       "    .dataframe tbody tr th {\n",
       "        vertical-align: top;\n",
       "    }\n",
       "\n",
       "    .dataframe thead th {\n",
       "        text-align: right;\n",
       "    }\n",
       "</style>\n",
       "<table border=\"1\" class=\"dataframe\">\n",
       "  <thead>\n",
       "    <tr style=\"text-align: right;\">\n",
       "      <th></th>\n",
       "      <th>Stability</th>\n",
       "      <th>Wind</th>\n",
       "      <th>Magnitude</th>\n",
       "      <th>Visibility</th>\n",
       "    </tr>\n",
       "  </thead>\n",
       "  <tbody>\n",
       "    <tr>\n",
       "      <th>4</th>\n",
       "      <td>True</td>\n",
       "      <td>0</td>\n",
       "      <td>0</td>\n",
       "      <td>True</td>\n",
       "    </tr>\n",
       "  </tbody>\n",
       "</table>\n",
       "</div>"
      ],
      "text/plain": [
       "  Stability Wind Magnitude Visibility\n",
       "4      True    0         0       True"
      ]
     },
     "execution_count": 41,
     "metadata": {},
     "output_type": "execute_result"
    }
   ],
   "source": [
    "X_test"
   ]
  },
  {
   "cell_type": "code",
   "execution_count": 43,
   "id": "34f1ef02-de0f-450a-b667-39950e1ac2fc",
   "metadata": {},
   "outputs": [
    {
     "name": "stdout",
     "output_type": "stream",
     "text": [
      "['auto'] ['manual'] 4    auto\n",
      "Name: Landing, dtype: object\n"
     ]
    }
   ],
   "source": [
    "print(y_pred, y_pred1, y_test)"
   ]
  },
  {
   "cell_type": "markdown",
   "id": "acfaf77d-8ea3-42ef-9a6b-09e37bc47954",
   "metadata": {},
   "source": [
    "_2.3_ Дрвото на одлучување се состои од корен, внатрешни јазли и листови. Секој јазол претставува одредена карактеристика според која се делат податоците во подмножества на наследниците. ID3 алгоритамот се состои од избирање на онаа карактеристика која во моментот дава најголема информациона придобивка, односно најмала средна ентропија на поделените подмножества. Тоа значи која карактеристика најдобро го дели множеството, т.ш 'нередот' во нив биде најмал. Крајните листови се добиваат кога во едно подмножество сите податоци имаат ист излез, па таа вредност соодветно се припишува на листот. Кога нареден влез со непознат излез ќе влезе во класификаторот, според изграденото дрво се добива претпоставка за излезот. \n",
    "    Од библиотеката sklearn.tree се користи класата DecisionTreeClassifier која креира модел. Потоа со функцијата fit се тренира моделот со податоците од множеството за тренирање и се создава дрвото на одлука. Со функцијата predict се прави предвидување на излезот кога на влез ќе ги донесеме податоците за тестирање на моделот, или сосема нови податоци."
   ]
  },
  {
   "cell_type": "markdown",
   "id": "e4ed06d5-21f7-4bc2-b718-ad0c11994d12",
   "metadata": {},
   "source": [
    "_2.4_ Наивниот Баесов алгоритам е наречен 'наивен' бидејќи секоја карактеристика ја разгледува независно од останатите, односно заклучоците за дадена класа ги формира врз база на одделните признаци и нивните веројатности. Тој е наречен Баесов бидејќи се базира на Баесовата теорема, со која се пресметуваат условни веројатности за дадена вредност на признакот при познат исход. Се гледа застапеноста на дадена карактеристика за дадена излезна класа, па алгоритамот одлучува врз основа на поголема веројатност."
   ]
  },
  {
   "cell_type": "code",
   "execution_count": null,
   "id": "8f0452d4-6325-40fa-abff-105893bba9b8",
   "metadata": {},
   "outputs": [],
   "source": []
  }
 ],
 "metadata": {
  "kernelspec": {
   "display_name": "Python 3 (ipykernel)",
   "language": "python",
   "name": "python3"
  },
  "language_info": {
   "codemirror_mode": {
    "name": "ipython",
    "version": 3
   },
   "file_extension": ".py",
   "mimetype": "text/x-python",
   "name": "python",
   "nbconvert_exporter": "python",
   "pygments_lexer": "ipython3",
   "version": "3.9.13"
  }
 },
 "nbformat": 4,
 "nbformat_minor": 5
}
