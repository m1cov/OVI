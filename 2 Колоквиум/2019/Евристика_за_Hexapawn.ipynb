{
 "cells": [
  {
   "cell_type": "markdown",
   "id": "1c46dfd7-b28d-4d16-8a6b-2967c63def0e",
   "metadata": {},
   "source": [
    "## Кодовите се само урнек, не работат точно"
   ]
  },
  {
   "cell_type": "code",
   "execution_count": 5,
   "id": "06bd388c-9b85-41f4-a758-e976f0297843",
   "metadata": {},
   "outputs": [],
   "source": [
    "from copy import deepcopy"
   ]
  },
  {
   "cell_type": "code",
   "execution_count": 34,
   "id": "f4199330-03a0-4c7d-93ee-e92ea26c3842",
   "metadata": {},
   "outputs": [],
   "source": [
    "def heuristic_hexapawn(state, player):\n",
    "    current_moves, after_moves, current_other_moves, after_other_moves = 0, 0, 0, 0\n",
    "    symbol = 'w' if player == 'MAX' else 'b'\n",
    "    o_symbol = 'w' if symbol == 'b' else 'b'\n",
    "    for i in range(3):\n",
    "        for j in range(3):\n",
    "            if state[i][j] == symbol:\n",
    "                for my_move in possible_moves(state, i, j):\n",
    "                    current_moves += 1\n",
    "            if state[i][j] == o_symbol:\n",
    "                for o_move in possible_moves(state, i, j):\n",
    "                    current_other_moves += 1\n",
    "                    new_state = deepcopy(state)\n",
    "                    new_state[i][j] = '.'\n",
    "                    new_state[o_move[0]][o_move[1]] = o_symbol\n",
    "                    for m in range(3):\n",
    "                        for n in range(3):\n",
    "                            if new_state[m][n] == o_symbol:\n",
    "                                for o_move in possible_moves(new_state, m, n):\n",
    "                                    after_other_moves += 1\n",
    "                            if new_state[m][n] == symbol:\n",
    "                                for my_move in possible_moves(new_state, m, n):\n",
    "                                    after_moves += 1\n",
    "    score = (0.5*current_moves + 0.9*after_moves) - (0.6*current_other_moves + 0.9*after_other_moves)\n",
    "    if player == 'MIN':\n",
    "        score *= (-1)\n",
    "    return score"
   ]
  },
  {
   "cell_type": "code",
   "execution_count": 14,
   "id": "e1885891-189e-40a8-98c4-3a0ef286c0db",
   "metadata": {},
   "outputs": [],
   "source": [
    "def take(state, i, j):\n",
    "    symbol = state[i][j]\n",
    "    if symbol == 'w':\n",
    "        if j-1>=0 and i+1<len(state) and state[i+1][j-1] == 'b':\n",
    "            return True\n",
    "        if j+1<len(state) and i+1<len(state) and state[i+1][j+1] == 'b':\n",
    "            return True\n",
    "    elif symbol == 'b':\n",
    "        if j-1>=0 and i-1>=0 and state[i-1][j-1] == 'w':\n",
    "            return True\n",
    "        if j+1<len(state) and i-1>=0 and state[i-1][j+1] == 'w':\n",
    "            return True\n",
    "    return False"
   ]
  },
  {
   "cell_type": "code",
   "execution_count": 8,
   "id": "c6070d06-6b05-48b3-9610-3a3c3e812b7c",
   "metadata": {},
   "outputs": [],
   "source": [
    "def forward(state, i, j):\n",
    "    symbol = state[i][j]\n",
    "    if symbol == 'w':\n",
    "        if i+1<len(state) and state[i+1][j] == '.':\n",
    "            return True\n",
    "    elif symbol == 'b':\n",
    "        if i-1>=0 and state[i-1][j] == '.':\n",
    "            return True\n",
    "    return False"
   ]
  },
  {
   "cell_type": "code",
   "execution_count": 17,
   "id": "1eeb30bf-a800-4a25-810b-7d159c03e858",
   "metadata": {},
   "outputs": [],
   "source": [
    "def heuristic_hexapawn1(state, player):\n",
    "    collect, move_forward, o_collect, o_move_forward = 0, 0, 0, 0\n",
    "    symbol = 'w' if player == 'MAX' else 'b'\n",
    "    o_symbol = 'w' if symbol == 'b' else 'b'\n",
    "    for i in range(3):\n",
    "        for j in range(3):\n",
    "            if state[i][j] == symbol:\n",
    "                if take(state, i, j):\n",
    "                    collect += 1\n",
    "                if forward(state, i, j):\n",
    "                    move_forward += 1\n",
    "            if state[i][j] == o_symbol:\n",
    "                if take(state, i, j):\n",
    "                    o_collect += 1\n",
    "                if forward(state, i, j):\n",
    "                    o_move_forward += 1\n",
    "    score = collect + move_forward - o_collect - o_move_forward\n",
    "    # if symbol == 'b':\n",
    "    #     return -score\n",
    "    return score"
   ]
  },
  {
   "cell_type": "code",
   "execution_count": 10,
   "id": "209ea3a9-b517-4171-a64e-15438c7fbeed",
   "metadata": {},
   "outputs": [],
   "source": [
    "def possible_moves(state, i, j):\n",
    "    sign = state[i][j]\n",
    "    possible_moves = []\n",
    "    if sign == 'w':\n",
    "        if i+1<len(state) and state[i + 1][j] == '.':\n",
    "            possible_moves.append((i+1, j))\n",
    "        if j > 0 and i+1<len(state) and state[i + 1][j - 1] == 'b':\n",
    "            possible_moves.append((i+1, j-1))\n",
    "        if j < len(state) - 1 and i+1<len(state) and state[i + 1][j + 1] == 'b':\n",
    "            possible_moves.append((i+1, j+1))\n",
    "    elif sign == 'b':\n",
    "        if i-1>=0 and state[i - 1][j] == '.':\n",
    "            possible_moves.append((i-1, j))\n",
    "        if j > 0 and i-1>=0 and state[i - 1][j - 1] == 'w':\n",
    "            possible_moves.append((i-1, j-1))\n",
    "        if j < len(state) - 1 and i-1>=0 and state[i - 1][j + 1] == 'w':\n",
    "            possible_moves.append((i-1, j+1))\n",
    "    return possible_moves"
   ]
  },
  {
   "cell_type": "code",
   "execution_count": 11,
   "id": "b3a6273c-0f34-4ffb-8d33-ea9a243d08ca",
   "metadata": {},
   "outputs": [],
   "source": [
    "state = [['w','.','w'], ['.','b','.'], ['.','b','b']]"
   ]
  },
  {
   "cell_type": "code",
   "execution_count": 35,
   "id": "f3227f74-2ea1-42fb-872e-d65fe3bc8ca6",
   "metadata": {},
   "outputs": [
    {
     "data": {
      "text/plain": [
       "0.40000000000000036"
      ]
     },
     "execution_count": 35,
     "metadata": {},
     "output_type": "execute_result"
    }
   ],
   "source": [
    "heuristic_hexapawn(state,'MIN')"
   ]
  },
  {
   "cell_type": "code",
   "execution_count": 19,
   "id": "9660f81b-beea-41b9-8583-b16a590544f3",
   "metadata": {},
   "outputs": [
    {
     "data": {
      "text/plain": [
       "1"
      ]
     },
     "execution_count": 19,
     "metadata": {},
     "output_type": "execute_result"
    }
   ],
   "source": [
    "heuristic_hexapawn1(state,'MAX')"
   ]
  },
  {
   "cell_type": "code",
   "execution_count": null,
   "id": "64958f91-e069-4c42-bc7e-f1a075b910dc",
   "metadata": {},
   "outputs": [],
   "source": []
  }
 ],
 "metadata": {
  "kernelspec": {
   "display_name": "Python 3 (ipykernel)",
   "language": "python",
   "name": "python3"
  },
  "language_info": {
   "codemirror_mode": {
    "name": "ipython",
    "version": 3
   },
   "file_extension": ".py",
   "mimetype": "text/x-python",
   "name": "python",
   "nbconvert_exporter": "python",
   "pygments_lexer": "ipython3",
   "version": "3.9.13"
  }
 },
 "nbformat": 4,
 "nbformat_minor": 5
}
