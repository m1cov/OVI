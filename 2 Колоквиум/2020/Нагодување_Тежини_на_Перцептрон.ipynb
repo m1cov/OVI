{
 "cells": [
  {
   "cell_type": "markdown",
   "metadata": {},
   "source": [
    "# Втор парцијален испит по Основи на Вештачката Интелигенција"
   ]
  },
  {
   "cell_type": "markdown",
   "metadata": {},
   "source": [
    "## Задача 2"
   ]
  },
  {
   "cell_type": "markdown",
   "metadata": {},
   "source": [
    "**(50 поени)** Да се обучи еден перцептрон правилно да го класифицира множеството податоци `data` од кoe податоците `(-1, 1)` и `(1 , 1)` припаѓаат на класата `+`, додека останатите припаѓаат на класата `-`."
   ]
  },
  {
   "cell_type": "code",
   "execution_count": 1,
   "metadata": {},
   "outputs": [
    {
     "data": {
      "text/plain": [
       "[(-3, -1), (-2, -1), (-1, 1), (1, 1), (2, -1), (3, -1)]"
      ]
     },
     "execution_count": 1,
     "metadata": {},
     "output_type": "execute_result"
    }
   ],
   "source": [
    "data = [\n",
    "    (-3, -1),\n",
    "    (-2, -1),\n",
    "    (-1,  1),\n",
    "    ( 1,  1),\n",
    "    ( 2, -1),\n",
    "    ( 3, -1),\n",
    "]\n",
    "data"
   ]
  },
  {
   "cell_type": "markdown",
   "metadata": {},
   "source": [
    " Излезот на перцептронот е:\n",
    " \n",
    "$ d(x) = \n",
    "    \\begin{cases}\n",
    "      1, \\text{ ако } x \\in \\text{ класата '+' } \\\\    \n",
    "      -1, \\text{ ако } x \\in \\text{ класата '-' } \\\\    \n",
    "    \\end{cases}\n",
    "$"
   ]
  },
  {
   "cell_type": "markdown",
   "metadata": {},
   "source": [
    "Нека за почетни вредности се усвојат:\n",
    "- Тежински фактори - $[w_0, w_1, w_2]^\\top = [0, 1, 0.5]^\\top$\n",
    "- Праг - $\\theta = w_0 x_0; x_0 = 1$"
   ]
  },
  {
   "cell_type": "markdown",
   "metadata": {},
   "source": [
    "Учењето на перцептронот се врши според следниот алгоритам:\n",
    "1. Се одбира следниот примерок од множеството за обучување.\n",
    "1. Ако класификацијата е коректна, не се презема ништо.\n",
    "1. Доколку примерокот е погрешно класифициран, се модифицираат тежинските фактори $\\mathbf{w}$ според формулата:\n",
    "\n",
    "    $\\mathbf{w}^{i+1} = \\mathbf{w}^i + \\eta d\\mathbf{x}; i = 0, 1, 2 . . .$\n",
    "1. Постапката се повторува сѐ додека целото множество за учење не се класифицира точно.\n",
    "\n",
    "За брзина на учењето да се усвои $\\eta = 0.5$."
   ]
  },
  {
   "cell_type": "markdown",
   "metadata": {},
   "source": [
    "## Решение"
   ]
  },
  {
   "cell_type": "code",
   "execution_count": 1,
   "metadata": {},
   "outputs": [],
   "source": [
    "import numpy as np"
   ]
  },
  {
   "cell_type": "code",
   "execution_count": 18,
   "metadata": {},
   "outputs": [],
   "source": [
    "def train(data_x, data_y, eta = 0.5, n_iterations = 50):\n",
    "    w = np.array([0,1,0.5])\n",
    "    for i in range(n_iterations):\n",
    "        for x, y in zip(data_x, data_y):\n",
    "            y_pred = 1 if np.dot(x, w) > 0 else -1\n",
    "            if y_pred != y[0]:\n",
    "                w = w + eta * y[0] * x\n",
    "    return w"
   ]
  },
  {
   "cell_type": "code",
   "execution_count": 13,
   "metadata": {},
   "outputs": [],
   "source": [
    "data_x = np.array([[-3, -1, 1], [-2, -1, 1], [-1, 1, 1], [1, 1, 1], [2, -1, 1], [3, -1, 1]])"
   ]
  },
  {
   "cell_type": "code",
   "execution_count": 14,
   "metadata": {},
   "outputs": [
    {
     "data": {
      "text/plain": [
       "array([[-1],\n",
       "       [-1],\n",
       "       [ 1],\n",
       "       [ 1],\n",
       "       [-1],\n",
       "       [-1]])"
      ]
     },
     "execution_count": 14,
     "metadata": {},
     "output_type": "execute_result"
    }
   ],
   "source": [
    "data_y = np.array([[-1,-1,1,1,-1,-1]]).T\n",
    "data_y"
   ]
  },
  {
   "cell_type": "code",
   "execution_count": 19,
   "metadata": {},
   "outputs": [
    {
     "data": {
      "text/plain": [
       "array([0. , 1. , 0.5])"
      ]
     },
     "execution_count": 19,
     "metadata": {},
     "output_type": "execute_result"
    }
   ],
   "source": [
    "train(data_x, data_y)"
   ]
  },
  {
   "cell_type": "code",
   "execution_count": null,
   "metadata": {},
   "outputs": [],
   "source": []
  }
 ],
 "metadata": {
  "kernelspec": {
   "display_name": "Python 3 (ipykernel)",
   "language": "python",
   "name": "python3"
  },
  "language_info": {
   "codemirror_mode": {
    "name": "ipython",
    "version": 3
   },
   "file_extension": ".py",
   "mimetype": "text/x-python",
   "name": "python",
   "nbconvert_exporter": "python",
   "pygments_lexer": "ipython3",
   "version": "3.9.13"
  }
 },
 "nbformat": 4,
 "nbformat_minor": 4
}
