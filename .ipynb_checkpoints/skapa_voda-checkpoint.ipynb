{
 "cells": [
  {
   "cell_type": "markdown",
   "metadata": {},
   "source": [
    "Имате на располагање 3 садови. Нивниот капацитет е 5, 8 и 10 соодветно.  На почетокот сите садови се празни. Задачата е да претурите 1 литар во садот од 5 литри. Можете да претурате вода меѓу садовите, но не знаете точно колку претурате бидејќи садовите не се обележани. Единствено може да го испразните садот од кој претурате или да го наполните до врв садот во кој претурате. Постои и чешма од која може да надополните некој сад до врвот. Секогаш може да ја истурите водата од некој сад. Скратено: имате на располагање 3 садови. Нивниот капацитет е (x, y, z) соодветно. Почетната состојба е (x_0, y_0, z_0). Задачата е да стигнете до посакуваната состојба.\n",
    "\n",
    "Дополнително, секој нов наточен литар се казнува со 1 поен (еквивалентно на 1 потег), а секој истурен литар се казнува со 3 поени (еквивалетно на 3 потези)."
   ]
  },
  {
   "cell_type": "code",
   "execution_count": 42,
   "metadata": {},
   "outputs": [],
   "source": [
    "from collections import deque\n",
    "from itertools import combinations"
   ]
  },
  {
   "cell_type": "code",
   "execution_count": 19,
   "metadata": {},
   "outputs": [],
   "source": [
    "CAPACITY = (5, 8, 10)"
   ]
  },
  {
   "cell_type": "code",
   "execution_count": 22,
   "metadata": {},
   "outputs": [],
   "source": [
    "def transfer(state, i_source, i_sink):\n",
    "    available = CAPACITY[i_sink] - state[i_sink]\n",
    "    new_source = max(state[i_source] - available, 0)\n",
    "    new_sink = min(state[i_source] + state[i_sink], CAPACITY[i_sink])\n",
    "    new_state = list(state)\n",
    "    new_state[i_source] = new_source\n",
    "    new_state[i_sink] = new_sink\n",
    "    return tuple(new_state)"
   ]
  },
  {
   "cell_type": "code",
   "execution_count": 35,
   "metadata": {},
   "outputs": [],
   "source": [
    "def expand_state_2(state):\n",
    "    states = []\n",
    "    for i in range(len(state)):\n",
    "        new_state = list(state)\n",
    "        new_state[i] = CAPACITY[i]\n",
    "        states.append(tuple(new_state))\n",
    "    for i in range(len(state)):\n",
    "        new_state = list(state)\n",
    "        new_state[i] = 0\n",
    "        states.append(tuple(new_state))\n",
    "    for c1, c2 in combinations(range(len(state)), 2):\n",
    "        new_state = transfer(state, c1, c2)\n",
    "        states.append(new_state)\n",
    "        new_state = transfer(state, c2, c1)\n",
    "        states.append(new_state)\n",
    "    return states\n",
    "\n",
    "start = (2, 1, 6)\n",
    "expand_state(start)"
   ]
  },
  {
   "cell_type": "code",
   "execution_count": null,
   "metadata": {},
   "outputs": [],
   "source": [
    "def search_path(initial_state, goal_state):\n",
    "    visited = {initial_state}\n",
    "    states_queue = deque([[initial_state]])\n",
    "    while states_queue:\n",
    "        states_list = states_queue.popleft()\n",
    "        state_to_expand = states_list[-1]\n",
    "        for next_state in expand_state_2(state_to_expand):      \n",
    "            if next_state not in visited:\n",
    "                if next_state == goal_state:\n",
    "                    return states_list + [next_state]\n",
    "                visited.add(next_state)\n",
    "                states_queue.append(states_list + [next_state])\n",
    "    return []"
   ]
  },
  {
   "cell_type": "code",
   "execution_count": 40,
   "metadata": {},
   "outputs": [],
   "source": [
    "def visualise_path(path):\n",
    "    for states in zip(path, path[1:]):\n",
    "        old_state, new_state = states\n",
    "        print(old_state)\n",
    "        print(tuple(map(lambda x, y: x - y, new_state, old_state)), 'change')\n",
    "        print(new_state)\n",
    "        print()"
   ]
  },
  {
   "cell_type": "code",
   "execution_count": 43,
   "metadata": {},
   "outputs": [
    {
     "name": "stdout",
     "output_type": "stream",
     "text": [
      "(0, 0, 0)\n",
      "(0, 8, 0) change\n",
      "(0, 8, 0)\n",
      "\n",
      "(0, 8, 0)\n",
      "(5, -5, 0) change\n",
      "(5, 3, 0)\n",
      "\n",
      "(5, 3, 0)\n",
      "(-5, 0, 0) change\n",
      "(0, 3, 0)\n",
      "\n",
      "(0, 3, 0)\n",
      "(3, -3, 0) change\n",
      "(3, 0, 0)\n",
      "\n",
      "(3, 0, 0)\n",
      "(0, 8, 0) change\n",
      "(3, 8, 0)\n",
      "\n",
      "(3, 8, 0)\n",
      "(0, -8, 8) change\n",
      "(3, 0, 8)\n",
      "\n",
      "(3, 0, 8)\n",
      "(-2, 0, 2) change\n",
      "(1, 0, 10)\n",
      "\n",
      "(1, 0, 10)\n",
      "(0, 0, -10) change\n",
      "(1, 0, 0)\n",
      "\n"
     ]
    }
   ],
   "source": [
    "initial_state = (0, 0, 0)\n",
    "goal_state = (1, 0, 0)\n",
    "path = search_path(initial_state, goal_state)\n",
    "visualise_path(path)"
   ]
  }
 ],
 "metadata": {
  "kernelspec": {
   "display_name": "Python 3 (ipykernel)",
   "language": "python",
   "name": "python3"
  },
  "language_info": {
   "codemirror_mode": {
    "name": "ipython",
    "version": 3
   },
   "file_extension": ".py",
   "mimetype": "text/x-python",
   "name": "python",
   "nbconvert_exporter": "python",
   "pygments_lexer": "ipython3",
   "version": "3.12.6"
  }
 },
 "nbformat": 4,
 "nbformat_minor": 2
}
