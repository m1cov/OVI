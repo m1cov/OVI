{
 "cells": [
  {
   "cell_type": "markdown",
   "metadata": {},
   "source": [
    "Да се направи игра со 15 плочки што треба да се подредат со помош на А* алгоритмот"
   ]
  },
  {
   "cell_type": "code",
   "execution_count": null,
   "metadata": {},
   "outputs": [],
   "source": [
    "from collections import deque\n",
    "from pprint import pprint\n",
    "import heapq    "
   ]
  },
  {
   "cell_type": "code",
   "execution_count": 67,
   "metadata": {},
   "outputs": [],
   "source": [
    "g = '0-5-3-7-8-4-2-6-1-9-12-13-15-10-11-14'\n",
    "go = '053784261'\n",
    "gt = '0-1-2-3-4-5-6-7-8-9-10-11-12-13-14-15'"
   ]
  },
  {
   "cell_type": "code",
   "execution_count": 47,
   "metadata": {},
   "outputs": [],
   "source": [
    "LEGAL_MOVES={\n",
    "    \n",
    "    0:[1,4],\n",
    "    1:[0,2,5],\n",
    "    2:[1,3,6],\n",
    "    3:[2,7],\n",
    "    4:[0, 5, 8],\n",
    "    5:[1,4,6,9],\n",
    "    6:[2,5,7,10],\n",
    "    7:[3,6,11],\n",
    "    8:[4,9,12],\n",
    "    9:[5,8,10,13],\n",
    "    10:[6,9,11,14],\n",
    "    11:[7,10,15],\n",
    "    12:[8,13],\n",
    "    13:[9,12,14],\n",
    "    14:[10,13,15],\n",
    "    15:[11,14],\n",
    "    \n",
    "}"
   ]
  },
  {
   "cell_type": "code",
   "execution_count": 51,
   "metadata": {},
   "outputs": [
    {
     "data": {
      "text/plain": [
       "False"
      ]
     },
     "execution_count": 51,
     "metadata": {},
     "output_type": "execute_result"
    }
   ],
   "source": [
    "def check_end(state):\n",
    "    return state == '0-1-2-3-4-5-6-7-8-9-10-11-12-13-14-15'\n",
    "\n",
    "check_end(g)"
   ]
  },
  {
   "cell_type": "code",
   "execution_count": 68,
   "metadata": {},
   "outputs": [
    {
     "data": {
      "text/plain": [
       "['-05-3-7-8-4-2-6-1-9-12-13-15-10-11-14',\n",
       " '3-5-0-7-8-4-2-6-1-9-12-13-15-10-11-14']"
      ]
     },
     "execution_count": 68,
     "metadata": {},
     "output_type": "execute_result"
    }
   ],
   "source": [
    "def expand_state(state):\n",
    "    new_states = []\n",
    "    i_blank = state.find('0')\n",
    "    \n",
    "    for i_change in LEGAL_MOVES[i_blank]:\n",
    "        l_state = list(state)\n",
    "        l_state[i_blank] = state[i_change]\n",
    "        l_state[i_change] = state[i_blank]\n",
    "        new_state = ''.join(l_state)\n",
    "        new_states.append(new_state)\n",
    "    return new_states\n",
    "expand_state(g)"
   ]
  },
  {
   "cell_type": "code",
   "execution_count": null,
   "metadata": {},
   "outputs": [],
   "source": [
    "def a_star_search(starting_vertex, heuristic_function, alpha=1):\n",
    "    expanded = set()\n",
    "    queue = [((0, 0), [starting_vertex])]\n",
    "    heapq.heapify(queue)\n",
    "    c = 0\n",
    "    while queue:\n",
    "        c += 1\n",
    "        weight_tuple, vertex_list = heapq.heappop(queue)\n",
    "        current_a_star_weight, current_path_weight = weight_tuple\n",
    "        vertex_to_expand = vertex_list[-1]\n",
    "        if check_end(vertex_to_expand):\n",
    "            return current_path_weight, vertex_list, c\n",
    "        if vertex_to_expand in expanded:\n",
    "            continue\n",
    "        for neighbour in expand_state(vertex_to_expand):\n",
    "            if neighbour not in expanded:\n",
    "                heuristic = heuristic_function(neighbour)\n",
    "                path_weight = current_path_weight + 1\n",
    "                a_star_weight = path_weight + alpha * heuristic\n",
    "                heapq.heappush(queue, ((a_star_weight, path_weight), vertex_list + [neighbour]))\n",
    "        expanded.add(vertex_to_expand)"
   ]
  },
  {
   "cell_type": "code",
   "execution_count": null,
   "metadata": {},
   "outputs": [],
   "source": [
    "def manhattan_distance(state_1, state_2):\n",
    "    return abs(state_1[0] - state_2[0]) + abs(state_1[1] - state_2[1])"
   ]
  },
  {
   "cell_type": "code",
   "execution_count": 71,
   "metadata": {},
   "outputs": [
    {
     "ename": "ValueError",
     "evalue": "invalid literal for int() with base 10: '-'",
     "output_type": "error",
     "traceback": [
      "\u001b[0;31m---------------------------------------------------------------------------\u001b[0m",
      "\u001b[0;31mValueError\u001b[0m                                Traceback (most recent call last)",
      "Cell \u001b[0;32mIn[71], line 10\u001b[0m\n\u001b[1;32m      7\u001b[0m         m\u001b[38;5;241m.\u001b[39mappend(manhattan_distance((i \u001b[38;5;241m/\u001b[39m\u001b[38;5;241m/\u001b[39m N, i \u001b[38;5;241m%\u001b[39m N), (s \u001b[38;5;241m/\u001b[39m\u001b[38;5;241m/\u001b[39m N, s \u001b[38;5;241m%\u001b[39m N)))\n\u001b[1;32m      8\u001b[0m     \u001b[38;5;28;01mreturn\u001b[39;00m \u001b[38;5;28msum\u001b[39m(m)\n\u001b[0;32m---> 10\u001b[0m \u001b[43mh\u001b[49m\u001b[43m(\u001b[49m\u001b[43mg\u001b[49m\u001b[43m)\u001b[49m\n",
      "Cell \u001b[0;32mIn[71], line 6\u001b[0m, in \u001b[0;36mh\u001b[0;34m(state)\u001b[0m\n\u001b[1;32m      4\u001b[0m m \u001b[38;5;241m=\u001b[39m []\n\u001b[1;32m      5\u001b[0m \u001b[38;5;28;01mfor\u001b[39;00m i, s \u001b[38;5;129;01min\u001b[39;00m \u001b[38;5;28menumerate\u001b[39m(state):\n\u001b[0;32m----> 6\u001b[0m     s \u001b[38;5;241m=\u001b[39m \u001b[38;5;28;43mint\u001b[39;49m\u001b[43m(\u001b[49m\u001b[43ms\u001b[49m\u001b[43m)\u001b[49m\n\u001b[1;32m      7\u001b[0m     m\u001b[38;5;241m.\u001b[39mappend(manhattan_distance((i \u001b[38;5;241m/\u001b[39m\u001b[38;5;241m/\u001b[39m N, i \u001b[38;5;241m%\u001b[39m N), (s \u001b[38;5;241m/\u001b[39m\u001b[38;5;241m/\u001b[39m N, s \u001b[38;5;241m%\u001b[39m N)))\n\u001b[1;32m      8\u001b[0m \u001b[38;5;28;01mreturn\u001b[39;00m \u001b[38;5;28msum\u001b[39m(m)\n",
      "\u001b[0;31mValueError\u001b[0m: invalid literal for int() with base 10: '-'"
     ]
    }
   ],
   "source": [
    "N = 3\n",
    "\n",
    "def h(state):\n",
    "    m = []\n",
    "    for i, s in enumerate(state):\n",
    "        s = int(s)\n",
    "        m.append(manhattan_distance((i // N, i % N), (s // N, s % N)))\n",
    "    return sum(m)\n",
    "        \n",
    "h(g)"
   ]
  },
  {
   "cell_type": "code",
   "execution_count": 72,
   "metadata": {},
   "outputs": [
    {
     "ename": "ValueError",
     "evalue": "invalid literal for int() with base 10: '-'",
     "output_type": "error",
     "traceback": [
      "\u001b[0;31m---------------------------------------------------------------------------\u001b[0m",
      "\u001b[0;31mValueError\u001b[0m                                Traceback (most recent call last)",
      "Cell \u001b[0;32mIn[72], line 1\u001b[0m\n\u001b[0;32m----> 1\u001b[0m solution \u001b[38;5;241m=\u001b[39m \u001b[43ma_star_search\u001b[49m\u001b[43m(\u001b[49m\u001b[43mg\u001b[49m\u001b[43m,\u001b[49m\u001b[43m \u001b[49m\u001b[43mh\u001b[49m\u001b[43m)\u001b[49m\n",
      "Cell \u001b[0;32mIn[69], line 17\u001b[0m, in \u001b[0;36ma_star_search\u001b[0;34m(starting_vertex, heuristic_function, alpha)\u001b[0m\n\u001b[1;32m     15\u001b[0m \u001b[38;5;28;01mfor\u001b[39;00m neighbour \u001b[38;5;129;01min\u001b[39;00m expand_state(vertex_to_expand):\n\u001b[1;32m     16\u001b[0m     \u001b[38;5;28;01mif\u001b[39;00m neighbour \u001b[38;5;129;01mnot\u001b[39;00m \u001b[38;5;129;01min\u001b[39;00m expanded:\n\u001b[0;32m---> 17\u001b[0m         heuristic \u001b[38;5;241m=\u001b[39m \u001b[43mheuristic_function\u001b[49m\u001b[43m(\u001b[49m\u001b[43mneighbour\u001b[49m\u001b[43m)\u001b[49m\n\u001b[1;32m     18\u001b[0m         path_weight \u001b[38;5;241m=\u001b[39m current_path_weight \u001b[38;5;241m+\u001b[39m \u001b[38;5;241m1\u001b[39m\n\u001b[1;32m     19\u001b[0m         a_star_weight \u001b[38;5;241m=\u001b[39m path_weight \u001b[38;5;241m+\u001b[39m alpha \u001b[38;5;241m*\u001b[39m heuristic\n",
      "Cell \u001b[0;32mIn[71], line 6\u001b[0m, in \u001b[0;36mh\u001b[0;34m(state)\u001b[0m\n\u001b[1;32m      4\u001b[0m m \u001b[38;5;241m=\u001b[39m []\n\u001b[1;32m      5\u001b[0m \u001b[38;5;28;01mfor\u001b[39;00m i, s \u001b[38;5;129;01min\u001b[39;00m \u001b[38;5;28menumerate\u001b[39m(state):\n\u001b[0;32m----> 6\u001b[0m     s \u001b[38;5;241m=\u001b[39m \u001b[38;5;28;43mint\u001b[39;49m\u001b[43m(\u001b[49m\u001b[43ms\u001b[49m\u001b[43m)\u001b[49m\n\u001b[1;32m      7\u001b[0m     m\u001b[38;5;241m.\u001b[39mappend(manhattan_distance((i \u001b[38;5;241m/\u001b[39m\u001b[38;5;241m/\u001b[39m N, i \u001b[38;5;241m%\u001b[39m N), (s \u001b[38;5;241m/\u001b[39m\u001b[38;5;241m/\u001b[39m N, s \u001b[38;5;241m%\u001b[39m N)))\n\u001b[1;32m      8\u001b[0m \u001b[38;5;28;01mreturn\u001b[39;00m \u001b[38;5;28msum\u001b[39m(m)\n",
      "\u001b[0;31mValueError\u001b[0m: invalid literal for int() with base 10: '-'"
     ]
    }
   ],
   "source": [
    "solution = a_star_search(g, h)"
   ]
  },
  {
   "cell_type": "code",
   "execution_count": null,
   "metadata": {},
   "outputs": [],
   "source": []
  }
 ],
 "metadata": {
  "kernelspec": {
   "display_name": "Python 3 (ipykernel)",
   "language": "python",
   "name": "python3"
  },
  "language_info": {
   "codemirror_mode": {
    "name": "ipython",
    "version": 3
   },
   "file_extension": ".py",
   "mimetype": "text/x-python",
   "name": "python",
   "nbconvert_exporter": "python",
   "pygments_lexer": "ipython3",
   "version": "3.13.1"
  }
 },
 "nbformat": 4,
 "nbformat_minor": 4
}
