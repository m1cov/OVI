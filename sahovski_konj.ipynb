{
 "cells": [
  {
   "cell_type": "markdown",
   "metadata": {},
   "source": [
    "Користејќи ја шаховската фигура коњ, најдете ја најкратката патека од едно до друго поле на шаховската табла."
   ]
  },
  {
   "cell_type": "code",
   "execution_count": 2,
   "metadata": {},
   "outputs": [],
   "source": [
    "from collections import deque"
   ]
  },
  {
   "cell_type": "code",
   "execution_count": 3,
   "metadata": {},
   "outputs": [],
   "source": [
    "def expand_state(state):\n",
    "    \n",
    "    new_states = []\n",
    "    i, j = state\n",
    "    \n",
    "    valid_moves = [(i -1, j-2), (i-1, j+2), (i+1, j-2), (i+1, j+2),\n",
    "                   (i-2, j-1), (i-2,j+1), (i+2, j-1), (i+2, j+1)]\n",
    "    \n",
    "    for m, n in valid_moves:\n",
    "        \n",
    "        if m >= 0 and n >= 0 and m <= 7 and n <= 7:\n",
    "            new_states.append((m, n))\n",
    "    return new_states"
   ]
  },
  {
   "cell_type": "code",
   "execution_count": null,
   "metadata": {},
   "outputs": [],
   "source": [
    "def search(initial_state, goal_state):\n",
    "    \n",
    "    if initial_state == goal_state:\n",
    "        print(\"Konjot vekje se naogja na posakuvanata pozicija\")\n",
    "        return\n",
    "    \n",
    "    visited = {initial_state}\n",
    "    states_queue = deque([[initial_state]])\n",
    "    \n",
    "    while states_queue:\n",
    "        states_list = states_queue.popleft()\n",
    "        state_to_expand = states_list[-1]\n",
    "        \n",
    "        for next_state in expand_state(state_to_expand):\n",
    "            if next_state not in visited:\n",
    "                if next_state == goal_state:\n",
    "                    return (states_list + [next_state], len(states_list))\n",
    "                visited.add(next_state)\n",
    "                states_queue.append(states_list + [next_state])    "
   ]
  },
  {
   "cell_type": "code",
   "execution_count": 9,
   "metadata": {},
   "outputs": [
    {
     "data": {
      "text/plain": [
       "([(0, 0), (1, 2), (0, 4), (1, 6), (3, 7)], 4)"
      ]
     },
     "execution_count": 9,
     "metadata": {},
     "output_type": "execute_result"
    }
   ],
   "source": [
    "goal_state = (3, 7)\n",
    "initial_state = (0, 0)\n",
    "\n",
    "search(initial_state, goal_state)"
   ]
  },
  {
   "cell_type": "code",
   "execution_count": null,
   "metadata": {},
   "outputs": [],
   "source": []
  },
  {
   "cell_type": "code",
   "execution_count": null,
   "metadata": {},
   "outputs": [],
   "source": []
  },
  {
   "cell_type": "code",
   "execution_count": null,
   "metadata": {},
   "outputs": [],
   "source": [
    "    \n",
    "\n"
   ]
  },
  {
   "cell_type": "code",
   "execution_count": null,
   "metadata": {},
   "outputs": [],
   "source": []
  },
  {
   "cell_type": "code",
   "execution_count": null,
   "metadata": {},
   "outputs": [],
   "source": []
  }
 ],
 "metadata": {
  "kernelspec": {
   "display_name": "Python 3 (ipykernel)",
   "language": "python",
   "name": "python3"
  },
  "language_info": {
   "codemirror_mode": {
    "name": "ipython",
    "version": 3
   },
   "file_extension": ".py",
   "mimetype": "text/x-python",
   "name": "python",
   "nbconvert_exporter": "python",
   "pygments_lexer": "ipython3",
   "version": "3.12.6"
  }
 },
 "nbformat": 4,
 "nbformat_minor": 4
}
