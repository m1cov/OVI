{
 "cells": [
  {
   "cell_type": "markdown",
   "id": "3c092e3e-9753-4de1-b82a-80ff03d8d736",
   "metadata": {},
   "source": [
    "Потребно е да се постават сензори во NxN табла т.ш во ниту една редица или колона не смее да има сензори од ист производител"
   ]
  },
  {
   "cell_type": "code",
   "execution_count": 1,
   "id": "56e46aaa-1907-45a5-807a-aaf708c911fe",
   "metadata": {},
   "outputs": [],
   "source": [
    "from collections import deque"
   ]
  },
  {
   "cell_type": "code",
   "execution_count": 2,
   "id": "0b95c753-ed19-43f2-9048-4933a56d4b6a",
   "metadata": {},
   "outputs": [],
   "source": [
    "def search(initial_state, alg):\n",
    "    queue = deque([initial_state])\n",
    "    visited = {initial_state}\n",
    "    while queue:\n",
    "        state_to_expand = queue.popleft()\n",
    "        for next_state in expand_state(state_to_expand):\n",
    "            if next_state not in visited:\n",
    "                if check_end(next_state):\n",
    "                    return next_state\n",
    "                visited.add(next_state)\n",
    "                if alg == 'bfs':\n",
    "                    queue.append(next_state)\n",
    "                if alg == 'dfs':\n",
    "                    queue.appendleft(next_state)"
   ]
  },
  {
   "cell_type": "code",
   "execution_count": 3,
   "id": "3d2fcf3a-9c60-47dc-836f-a2a869b0b5be",
   "metadata": {},
   "outputs": [],
   "source": [
    "def check_end(state):\n",
    "    for i, row in enumerate(state):\n",
    "        for j, value in enumerate(row):\n",
    "            if value == 0:\n",
    "                return False\n",
    "    return True"
   ]
  },
  {
   "cell_type": "code",
   "execution_count": 4,
   "id": "5b62323e-5818-47d8-bcc3-7d4059524622",
   "metadata": {},
   "outputs": [],
   "source": [
    "def expand_state(state):\n",
    "    new_states = []\n",
    "    location_of_next_zero = find_next_zero(state)\n",
    "    if location_of_next_zero is None:\n",
    "        return []\n",
    "    i, j  = location_of_next_zero\n",
    "    unavailable_row = set(state[i])\n",
    "    unavailable_column = set([row[j] for row in state])\n",
    "    unavailable = unavailable_row | unavailable_column \n",
    "    available = set(range(1,N+1)) - unavailable\n",
    "    if not available:\n",
    "        return []\n",
    "    for n in available:\n",
    "        new_state = [list(row) for row in state]\n",
    "        new_state[i][j] = n\n",
    "        new_states.append(tuple([tuple(row) for row in new_state]))\n",
    "    return new_states"
   ]
  },
  {
   "cell_type": "code",
   "execution_count": 5,
   "id": "b68ad1f6-fa75-4d69-8d66-95eceab26797",
   "metadata": {},
   "outputs": [],
   "source": [
    "def find_next_zero(state):\n",
    "    for i, row in enumerate(state):\n",
    "        for j, value in enumerate(row):\n",
    "            if value == 0:\n",
    "                return i, j"
   ]
  },
  {
   "cell_type": "code",
   "execution_count": 6,
   "id": "f491bb56-e1db-4e31-aff6-ec09ee08e355",
   "metadata": {},
   "outputs": [
    {
     "name": "stdout",
     "output_type": "stream",
     "text": [
      "(5, 4, 3, 2, 1)\n",
      "(4, 5, 2, 1, 3)\n",
      "(3, 2, 1, 5, 4)\n",
      "(2, 1, 4, 3, 5)\n",
      "(1, 3, 5, 4, 2)\n"
     ]
    }
   ],
   "source": [
    "N = 5\n",
    "initial_state = []\n",
    "for i in range(N):\n",
    "    initial_state.append((0,)*N)\n",
    "goal_state = search(tuple(initial_state),'dfs')\n",
    "for i in goal_state:\n",
    "    print(i)"
   ]
  },
  {
   "cell_type": "code",
   "execution_count": 9,
   "id": "1461bb94-abef-43e8-b857-ed1dd8245676",
   "metadata": {},
   "outputs": [
    {
     "name": "stdout",
     "output_type": "stream",
     "text": [
      "Wall time: 996 µs\n"
     ]
    }
   ],
   "source": [
    "%%time\n",
    "\n",
    "goal_state = search(tuple(initial_state),'dfs')"
   ]
  },
  {
   "cell_type": "code",
   "execution_count": null,
   "id": "b322f9e3-32cb-4ec7-9764-b5c82ec1a0ce",
   "metadata": {},
   "outputs": [],
   "source": []
  }
 ],
 "metadata": {
  "kernelspec": {
   "display_name": "Python 3 (ipykernel)",
   "language": "python",
   "name": "python3"
  },
  "language_info": {
   "codemirror_mode": {
    "name": "ipython",
    "version": 3
   },
   "file_extension": ".py",
   "mimetype": "text/x-python",
   "name": "python",
   "nbconvert_exporter": "python",
   "pygments_lexer": "ipython3",
   "version": "3.9.12"
  }
 },
 "nbformat": 4,
 "nbformat_minor": 5
}
