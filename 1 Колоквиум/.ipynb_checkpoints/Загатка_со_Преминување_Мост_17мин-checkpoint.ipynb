{
 "cells": [
  {
   "cell_type": "markdown",
   "id": "b693bc1e-3208-472d-b001-c96614dda6c0",
   "metadata": {},
   "source": [
    "Татко, мајка, ќерка и син треба да ја преминат реката преку мост за помалку од 17мин. Мостот може да издржи најмногу двајца и бидејќи е ноќ, мора да се носи светилка за време на секој премин на реката. На секој од нив му е потребно 1мин, 2мин, 5мин и 10мин соодветно да ја премине реката."
   ]
  },
  {
   "cell_type": "code",
   "execution_count": 2,
   "id": "899e2dbe-aab9-471b-9ab7-cc85001226bc",
   "metadata": {},
   "outputs": [],
   "source": [
    "import heapq\n",
    "from itertools import permutations"
   ]
  },
  {
   "cell_type": "code",
   "execution_count": 3,
   "id": "b0b3161b-72a6-4b0b-aada-032901162190",
   "metadata": {},
   "outputs": [],
   "source": [
    "on_bridge = [(0,1),(0,2),(0,3),(1,2),(1,3),(2,3),(0,),(1,),(2,),(3,)]"
   ]
  },
  {
   "cell_type": "code",
   "execution_count": 4,
   "id": "514326df-7174-4831-ab4f-2470561eefa9",
   "metadata": {},
   "outputs": [],
   "source": [
    "time_to_pass = (1,2,5,10)"
   ]
  },
  {
   "cell_type": "code",
   "execution_count": 5,
   "id": "e4a2c64f-6c40-4374-b767-164388bad3f1",
   "metadata": {},
   "outputs": [],
   "source": [
    "available_moves = set()\n",
    "\n",
    "moves = permutations([0, 0, 0, 0, 1], 5)\n",
    "for i in moves:\n",
    "    available_moves.add(i)\n",
    "\n",
    "moves = permutations([0, 0, 0, 1, 1], 5)\n",
    "for i in moves:\n",
    "    available_moves.add(i)\n",
    "\n",
    "moves = permutations([0, 0, 1, 1, 1], 5)\n",
    "for i in moves:\n",
    "    available_moves.add(i)\n",
    "\n",
    "moves = permutations([0, 1, 1, 1, 1], 5)\n",
    "for i in moves:\n",
    "    available_moves.add(i)\n",
    "\n",
    "available_moves.add((0, 0, 0, 0, 0))\n",
    "available_moves.add((1, 1, 1, 1, 1))\n",
    "\n",
    "available_moves = list(available_moves)"
   ]
  },
  {
   "cell_type": "code",
   "execution_count": 6,
   "id": "eaa37c46-64d9-432e-b5b2-9f5f01f776dc",
   "metadata": {},
   "outputs": [],
   "source": [
    "def uniform_cost_search(initial_state, goal_state):\n",
    "    queue = [(0,[initial_state])]\n",
    "    expanded = set()\n",
    "    heapq.heapify(queue)\n",
    "    while queue:\n",
    "        weight, state_list = heapq.heappop(queue)\n",
    "        state_to_expand = state_list[-1]\n",
    "        if state_to_expand not in expanded:\n",
    "            if state_to_expand == goal_state:\n",
    "                return weight, state_list\n",
    "            for next_state in expand_state(state_to_expand): \n",
    "                new_weight, new_vertex = next_state\n",
    "                if new_vertex not in expanded: \n",
    "                    heapq.heappush(queue, (weight + new_weight, state_list + [new_vertex]))\n",
    "            expanded.add(state_to_expand)"
   ]
  },
  {
   "cell_type": "code",
   "execution_count": 7,
   "id": "15487007-db40-4f23-b26a-d4e831677ac1",
   "metadata": {},
   "outputs": [],
   "source": [
    "def expand_state(state):\n",
    "    new_states = []\n",
    "    for new_state in available_moves:\n",
    "        if is_valid(state, new_state):\n",
    "            time = calculate_time(state, new_state)\n",
    "            new_states.append((time, new_state))\n",
    "    return new_states"
   ]
  },
  {
   "cell_type": "code",
   "execution_count": 24,
   "id": "39763141-c209-470f-91b7-2d89e86f5280",
   "metadata": {},
   "outputs": [],
   "source": [
    "def calculate_time(state, new_state):\n",
    "    indexes = []\n",
    "    time = 0\n",
    "    indexes = [i for i in range(len(state)-1) if state[i]!=new_state[i]]\n",
    "    # for i in range(len(state)-1):\n",
    "    #     if state[i] != new_state[i]:\n",
    "    #         indexes.append(i)\n",
    "    if len(indexes) == 1:\n",
    "        return time_to_pass[indexes[0]]\n",
    "    else:\n",
    "        time = max(time_to_pass[indexes[0]],time_to_pass[indexes[1]])\n",
    "        return time"
   ]
  },
  {
   "cell_type": "code",
   "execution_count": 9,
   "id": "dc177b5a-686f-416f-ae70-16bdfff1b361",
   "metadata": {},
   "outputs": [],
   "source": [
    "def is_valid(state, new_state):\n",
    "    if state[-1] == new_state[-1]:\n",
    "        return False\n",
    "    else:\n",
    "        helper = []\n",
    "        for i in range(len(state)-1):\n",
    "            if state[i] != state[-1] and state[i] != new_state[i]:\n",
    "                return False\n",
    "            else:\n",
    "                if state[i] != new_state[i]:\n",
    "                    helper.append(i)\n",
    "            \n",
    "        for passengers in on_bridge:\n",
    "            if len(passengers) == len(helper):\n",
    "                for i in helper:\n",
    "                    counter = False\n",
    "                    if i not in passengers:\n",
    "                        break\n",
    "                    counter = True\n",
    "                if counter:\n",
    "                    return True\n",
    "    return False "
   ]
  },
  {
   "cell_type": "code",
   "execution_count": 10,
   "id": "2a1ee1a2-ace9-4d9a-bcf5-dddff0c3879e",
   "metadata": {},
   "outputs": [],
   "source": [
    "initial_state = (0,0,0,0,0) # tatko, majka, kjerka, sin, svetilka\n",
    "goal_state = (1,1,1,1,1)"
   ]
  },
  {
   "cell_type": "code",
   "execution_count": 25,
   "id": "6129ea15-dcee-46df-94cf-3a22e12fed91",
   "metadata": {},
   "outputs": [
    {
     "name": "stdout",
     "output_type": "stream",
     "text": [
      "(0, 0, 0, 0, 0)\n",
      "\n",
      "(1, 1, 0, 0, 1)\n",
      "\n",
      "(0, 1, 0, 0, 0)\n",
      "\n",
      "(0, 1, 1, 1, 1)\n",
      "\n",
      "(0, 0, 1, 1, 0)\n",
      "\n",
      "(1, 1, 1, 1, 1)\n",
      "\n",
      "17\n"
     ]
    }
   ],
   "source": [
    "time, path = uniform_cost_search(initial_state, goal_state)\n",
    "for p in path:\n",
    "    print(p)\n",
    "    print()\n",
    "print(time)"
   ]
  },
  {
   "cell_type": "code",
   "execution_count": null,
   "id": "e237f00d-5946-475b-959d-3c6d11b5f97a",
   "metadata": {},
   "outputs": [],
   "source": []
  }
 ],
 "metadata": {
  "kernelspec": {
   "display_name": "Python 3 (ipykernel)",
   "language": "python",
   "name": "python3"
  },
  "language_info": {
   "codemirror_mode": {
    "name": "ipython",
    "version": 3
   },
   "file_extension": ".py",
   "mimetype": "text/x-python",
   "name": "python",
   "nbconvert_exporter": "python",
   "pygments_lexer": "ipython3",
   "version": "3.9.12"
  }
 },
 "nbformat": 4,
 "nbformat_minor": 5
}
