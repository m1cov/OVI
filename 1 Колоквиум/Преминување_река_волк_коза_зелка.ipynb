{
 "cells": [
  {
   "cell_type": "markdown",
   "id": "93add200-2433-4d2c-a1b5-cca1a003a30c",
   "metadata": {},
   "source": [
    "*Пренесување човек, волк, коза и зелка преку река*"
   ]
  },
  {
   "cell_type": "code",
   "execution_count": 17,
   "id": "59bbc8aa-442b-491b-b772-a0a4b1e1edff",
   "metadata": {},
   "outputs": [],
   "source": [
    "import itertools\n",
    "from collections import deque"
   ]
  },
  {
   "cell_type": "code",
   "execution_count": 5,
   "id": "eaa88249-5aa7-4109-9f99-683cd7e10b68",
   "metadata": {},
   "outputs": [],
   "source": [
    "passenger = ['Farmer', 'Goat', 'Cabbage', 'Wolf']\n",
    "sailors = ['Farmer']"
   ]
  },
  {
   "cell_type": "code",
   "execution_count": 6,
   "id": "1ec82623-ebfd-4f8f-a6be-0cfafa796c28",
   "metadata": {},
   "outputs": [],
   "source": [
    "def unpack_state(state):\n",
    "    boat = state[0]\n",
    "    left_bank = set([passenger[index] for index, side in enumerate(state[1:]) if side == 'left'])\n",
    "    right_bank = set([passenger[index] for index, side in enumerate(state[1:]) if side == 'right'])\n",
    "    \n",
    "    return boat, left_bank, right_bank"
   ]
  },
  {
   "cell_type": "code",
   "execution_count": 45,
   "id": "a6baad7c-3aec-43a0-bdc8-3658c1639092",
   "metadata": {},
   "outputs": [],
   "source": [
    "def obtain_boat_trips(available_passengers):\n",
    "    boat_trips = [(passenger,) for passenger in available_passengers if passenger in sailors] #se dodava poseben tuple so farmer, zoso i toa e edno patuvanje koga e sam na brod\n",
    "    for possible_boat_trip in itertools.combinations(available_passengers, 2):\n",
    "        sailor_on_boat = any([passenger in sailors for passenger in possible_boat_trip])\n",
    "        if sailor_on_boat:\n",
    "            boat_trips.append((possible_boat_trip))\n",
    "\n",
    "    return boat_trips"
   ]
  },
  {
   "cell_type": "code",
   "execution_count": 12,
   "id": "ef4aecab-9823-4b81-8dc1-f800c755566f",
   "metadata": {},
   "outputs": [],
   "source": [
    "def permitted_river_bank(river_bank):\n",
    "    if 'Wolf' in river_bank and 'Goat' in river_bank and 'Farmer' not in river_bank:\n",
    "        return False\n",
    "    if 'Goat' in river_bank and 'Cabbage' in river_bank and 'Farmer' not in river_bank:\n",
    "        return False\n",
    "    return True"
   ]
  },
  {
   "cell_type": "code",
   "execution_count": 13,
   "id": "e69b3930-3b65-4a28-90b7-4bf560884bd8",
   "metadata": {},
   "outputs": [],
   "source": [
    "def belongs(passenger, left_side, right_side):\n",
    "    if passenger in left_side:\n",
    "        return 'left'\n",
    "    if passenger in right_side:\n",
    "        return 'right'"
   ]
  },
  {
   "cell_type": "code",
   "execution_count": 19,
   "id": "031f01c2-0c18-469a-908c-b08550584ace",
   "metadata": {},
   "outputs": [],
   "source": [
    "def other_side(boat):\n",
    "    if boat == 'left':\n",
    "        return 'right'\n",
    "    else:\n",
    "        return 'left'"
   ]
  },
  {
   "cell_type": "code",
   "execution_count": 27,
   "id": "187dcbcb-3871-48ca-9211-8fb892b2e9f0",
   "metadata": {},
   "outputs": [],
   "source": [
    "def expand_state(state):\n",
    "    boat, left_bank, right_bank = unpack_state(state)\n",
    "    \n",
    "    if boat == 'left':\n",
    "        boat_trips = obtain_boat_trips(left_bank)\n",
    "    else:\n",
    "        boat_trips = obtain_boat_trips(right_bank)\n",
    "    \n",
    "    new_states = []\n",
    "    for boat_trip in boat_trips:\n",
    "        if boat == 'left':\n",
    "            new_left_bank = left_bank - set(boat_trip)\n",
    "            new_right_bank = right_bank | set(boat_trip)\n",
    "        if boat == 'right':\n",
    "            new_left_bank = left_bank | set(boat_trip)\n",
    "            new_right_bank = right_bank -set(boat_trip)\n",
    "    \n",
    "        if permitted_river_bank(new_left_bank) and permitted_river_bank(new_right_bank):\n",
    "            farmer = belongs('Farmer', new_left_bank, new_right_bank)\n",
    "            goat = belongs('Goat', new_left_bank, new_right_bank)\n",
    "            cabbage = belongs('Cabbage', new_left_bank, new_right_bank)\n",
    "            wolf = belongs('Wolf', new_left_bank, new_right_bank)\n",
    "            new_states.append((other_side(boat), farmer, goat, cabbage, wolf))\n",
    "            \n",
    "    return new_states"
   ]
  },
  {
   "cell_type": "code",
   "execution_count": 2,
   "id": "82182f85-aa8e-460e-bc82-acb5d94abc1a",
   "metadata": {},
   "outputs": [],
   "source": [
    "def search_path(initial_state, goal_state):\n",
    "    visited = {initial_state}\n",
    "    states_queue = deque([[initial_state]])\n",
    "    while states_queue:\n",
    "        states_list = states_queue.popleft()\n",
    "        state_to_expand = states_list[-1]\n",
    "        for next_state in expand_state(state_to_expand):\n",
    "            if next_state not in visited:\n",
    "                if next_state == goal_state:\n",
    "                    return states_list + [next_state]\n",
    "                visited.add(next_state)\n",
    "                states_queue.append(states_list + [next_state])\n",
    "    return []"
   ]
  },
  {
   "cell_type": "code",
   "execution_count": 28,
   "id": "73b887a7-de69-4926-8aca-a9603d377c8e",
   "metadata": {},
   "outputs": [],
   "source": [
    "def visualise(path):\n",
    "    if not path:\n",
    "        print('Search path did not find a solution')\n",
    "        return\n",
    "    for pair_of_states in zip(path, path[1:]):\n",
    "        boat_old, left_old, right_old = unpack_state(pair_of_states[0])\n",
    "        boat_new, left_new, right_new = unpack_state(pair_of_states[1])\n",
    "        delimiter_space = ' ' * 50\n",
    "        separated_print(left_old)\n",
    "        print(delimiter_space, end='')\n",
    "        separated_print(right_old)\n",
    "        print()\n",
    "        if boat_old == 'left':\n",
    "            delimiter = ' ' * 5 + '>' * 15 + ' ' * 5\n",
    "            separated_print(left_new)\n",
    "            print(delimiter, end='')\n",
    "            separated_print(left_old - left_new)\n",
    "            print(delimiter, end='')\n",
    "            separated_print(right_old)\n",
    "            print()\n",
    "        else:\n",
    "            delimiter = ' ' * 5 + '<' * 15 + ' ' * 5\n",
    "            separated_print(left_old)\n",
    "            print(delimiter, end='')\n",
    "            separated_print(right_old - right_new)\n",
    "            print(delimiter, end='')\n",
    "            separated_print(right_new)\n",
    "            print()\n",
    "        separated_print(left_new)\n",
    "        print(delimiter_space, end='')\n",
    "        separated_print(right_new)\n",
    "        print()\n",
    "        print()\n",
    "        print()"
   ]
  },
  {
   "cell_type": "code",
   "execution_count": 29,
   "id": "9d8df8f9-8a6a-4b12-be70-59384ad469d2",
   "metadata": {},
   "outputs": [],
   "source": [
    "def separated_print(iterable):\n",
    "    for element in iterable:\n",
    "        print(element, end=' ')\n",
    "    if not iterable:\n",
    "        print('Empty', end='')"
   ]
  },
  {
   "cell_type": "code",
   "execution_count": 44,
   "id": "3eab1b58-8ecc-43f2-a672-22f8abaeff94",
   "metadata": {},
   "outputs": [
    {
     "name": "stdout",
     "output_type": "stream",
     "text": [
      "Farmer Cabbage Wolf Goat                                                   Empty\n",
      "Cabbage Wolf      >>>>>>>>>>>>>>>     Farmer Goat      >>>>>>>>>>>>>>>     Empty\n",
      "Cabbage Wolf                                                   Farmer Goat \n",
      "\n",
      "\n",
      "Cabbage Wolf                                                   Farmer Goat \n",
      "Cabbage Wolf      <<<<<<<<<<<<<<<     Farmer      <<<<<<<<<<<<<<<     Goat \n",
      "Farmer Cabbage Wolf                                                   Goat \n",
      "\n",
      "\n",
      "Farmer Cabbage Wolf                                                   Goat \n",
      "Wolf      >>>>>>>>>>>>>>>     Farmer Cabbage      >>>>>>>>>>>>>>>     Goat \n",
      "Wolf                                                   Farmer Cabbage Goat \n",
      "\n",
      "\n",
      "Wolf                                                   Farmer Cabbage Goat \n",
      "Wolf      <<<<<<<<<<<<<<<     Farmer Goat      <<<<<<<<<<<<<<<     Cabbage \n",
      "Farmer Wolf Goat                                                   Cabbage \n",
      "\n",
      "\n",
      "Farmer Wolf Goat                                                   Cabbage \n",
      "Goat      >>>>>>>>>>>>>>>     Farmer Wolf      >>>>>>>>>>>>>>>     Cabbage \n",
      "Goat                                                   Farmer Cabbage Wolf \n",
      "\n",
      "\n",
      "Goat                                                   Farmer Cabbage Wolf \n",
      "Goat      <<<<<<<<<<<<<<<     Farmer      <<<<<<<<<<<<<<<     Cabbage Wolf \n",
      "Farmer Goat                                                   Cabbage Wolf \n",
      "\n",
      "\n",
      "Farmer Goat                                                   Cabbage Wolf \n",
      "Empty     >>>>>>>>>>>>>>>     Farmer Goat      >>>>>>>>>>>>>>>     Cabbage Wolf \n",
      "Empty                                                  Farmer Cabbage Wolf Goat \n",
      "\n",
      "\n"
     ]
    }
   ],
   "source": [
    "initial_state = ('left', 'left', 'left', 'left', 'left') # prvoto left e za pozicija na brodot\n",
    "goal_state = ('right', 'right', 'right', 'right', 'right')\n",
    "path = search_path(initial_state, goal_state)\n",
    "#print(path)\n",
    "visualise(path)"
   ]
  },
  {
   "cell_type": "code",
   "execution_count": null,
   "id": "e9d4e2ce-3449-4bef-bb97-118074c3677b",
   "metadata": {},
   "outputs": [],
   "source": []
  },
  {
   "cell_type": "code",
   "execution_count": null,
   "id": "1ea1ee68-2174-46cd-852b-4c7591416718",
   "metadata": {},
   "outputs": [],
   "source": []
  }
 ],
 "metadata": {
  "kernelspec": {
   "display_name": "Python 3 (ipykernel)",
   "language": "python",
   "name": "python3"
  },
  "language_info": {
   "codemirror_mode": {
    "name": "ipython",
    "version": 3
   },
   "file_extension": ".py",
   "mimetype": "text/x-python",
   "name": "python",
   "nbconvert_exporter": "python",
   "pygments_lexer": "ipython3",
   "version": "3.9.12"
  }
 },
 "nbformat": 4,
 "nbformat_minor": 5
}
