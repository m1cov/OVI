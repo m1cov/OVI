{
 "cells": [
  {
   "cell_type": "markdown",
   "id": "42de7c1a-341f-46d8-8f18-ec60a3bf6ec0",
   "metadata": {},
   "source": [
    "5. Три патника треба да ја преминат реката. Црвен, син и зелен. Црвениот има две торби, синиот една, а зелениот нема.\n",
    "    * Чамецот може да издржи највеќе два патника или патник со торба.\n",
    "    * Ниеден патник не смее да биде оставен насамо со туѓа торба."
   ]
  },
  {
   "cell_type": "code",
   "execution_count": 8,
   "id": "a5bde987-bf19-46ac-a82c-620689483bb9",
   "metadata": {},
   "outputs": [],
   "source": [
    "from collections import deque\n",
    "from itertools import permutations"
   ]
  },
  {
   "cell_type": "code",
   "execution_count": 4,
   "id": "6a81f7ab-90bc-4a88-93b8-bbdeb93b9f47",
   "metadata": {},
   "outputs": [],
   "source": [
    "permitted_states = [(0,5),(0,3,5),(0,4,5),(0,3,4,5),(1,3),(1,4),(1,3,5),(1,4,5),(1,3,4),(1,3,4,5),(2,3),(2,4),(2,5),(2,3,4),(2,3,5),(2,4,5),(2,3,4,5)]"
   ]
  },
  {
   "cell_type": "code",
   "execution_count": 5,
   "id": "09a927dc-7382-4add-8718-13593479f364",
   "metadata": {},
   "outputs": [],
   "source": [
    "in_boat = [(0,),\n",
    "           (1,),\n",
    "           (2,),\n",
    "           (0,1),\n",
    "           (0,2),\n",
    "           (0,3),\n",
    "           (0,4),\n",
    "           (1,2),\n",
    "           (1,5)\n",
    "          ]"
   ]
  },
  {
   "cell_type": "code",
   "execution_count": 23,
   "id": "4eec8dff-12dc-4353-9b83-9c2e5f8c18b8",
   "metadata": {},
   "outputs": [],
   "source": [
    "available_moves = set()\n",
    "\n",
    "moves = permutations([0, 0, 0, 0, 0, 0, 1], 7)\n",
    "for i in moves:\n",
    "    available_moves.add(i)\n",
    "\n",
    "moves = permutations([0, 0, 0, 0, 0, 1, 1], 7)\n",
    "for i in moves:\n",
    "    available_moves.add(i)\n",
    "\n",
    "moves = permutations([0, 0, 0, 0, 1, 1, 1], 7)\n",
    "for i in moves:\n",
    "    available_moves.add(i)\n",
    "\n",
    "moves = permutations([0, 0, 0, 1, 1, 1, 1], 7)\n",
    "for i in moves:\n",
    "    available_moves.add(i)\n",
    "\n",
    "moves = permutations([0, 0, 1, 1, 1, 1, 1], 7)\n",
    "for i in moves:\n",
    "    available_moves.add(i)\n",
    "\n",
    "moves = permutations([0, 1, 1, 1, 1, 1, 1], 7)\n",
    "for i in moves:\n",
    "    available_moves.add(i)\n",
    "\n",
    "available_moves.add((0, 0, 0, 0, 0, 0, 0))\n",
    "available_moves.add((1, 1, 1, 1, 1, 1, 1))\n",
    "\n",
    "available_moves = list(available_moves)"
   ]
  },
  {
   "cell_type": "code",
   "execution_count": 3,
   "id": "f60d703e-6050-4ae0-82ca-265f58b71f38",
   "metadata": {},
   "outputs": [],
   "source": [
    "def search_path(initial_state, goal_state):\n",
    "    visited = {initial_state}\n",
    "    queue = deque([[initial_state]])\n",
    "    while queue:\n",
    "        state_list = queue.popleft()\n",
    "        state_to_expand = state_list[-1]\n",
    "        for next_state in expand_state(state_to_expand):\n",
    "            if next_state not in visited:\n",
    "                if next_state == goal_state:\n",
    "                    return state_list + [next_state]\n",
    "                visited.add(next_state)\n",
    "                queue.append(state_list + [next_state])\n",
    "    return []"
   ]
  },
  {
   "cell_type": "code",
   "execution_count": 10,
   "id": "2c9aad4a-f8a0-4324-a941-64afd1ee4ea2",
   "metadata": {},
   "outputs": [],
   "source": [
    "def expand_state(state):\n",
    "    new_states = []\n",
    "    for new_state in available_moves:\n",
    "        if is_valid(state, new_state):\n",
    "            new_states.append(new_state)\n",
    "    return new_states"
   ]
  },
  {
   "cell_type": "code",
   "execution_count": 2,
   "id": "4028d375-3ab8-43ec-93c0-e3bfe4ca6611",
   "metadata": {},
   "outputs": [],
   "source": [
    "def is_valid(state, new_state):\n",
    "    if state[-1] == new_state[-1]:\n",
    "        return False\n",
    "    else:\n",
    "        helper = []\n",
    "        for i in range(len(state)-1):\n",
    "            if state[i] != state[-1] and state[i] != new_state[i]:\n",
    "                return False\n",
    "            else:\n",
    "                if state[i] != new_state[i]:\n",
    "                    helper.append(i)\n",
    "            \n",
    "        for passengers in in_boat:\n",
    "            if len(passengers) == len(helper):\n",
    "                for i in helper:\n",
    "                    counter = False\n",
    "                    if i not in passengers:\n",
    "                        break\n",
    "                    counter = True\n",
    "                if counter:\n",
    "                    if check_allowed_state(new_state):\n",
    "                        return True\n",
    "    return False      "
   ]
  },
  {
   "cell_type": "code",
   "execution_count": 41,
   "id": "53440d68-3368-4e92-a517-77b0f7b036b2",
   "metadata": {},
   "outputs": [
    {
     "name": "stdout",
     "output_type": "stream",
     "text": [
      "3\n"
     ]
    },
    {
     "data": {
      "text/plain": [
       "False"
      ]
     },
     "execution_count": 41,
     "metadata": {},
     "output_type": "execute_result"
    }
   ],
   "source": [
    "is_valid((1,0,1,1,1,1,1),(1,0,0,1,1,0,0))"
   ]
  },
  {
   "cell_type": "code",
   "execution_count": 21,
   "id": "9317077e-05c5-46e7-916f-da6ad5d158ad",
   "metadata": {},
   "outputs": [],
   "source": [
    "def check_allowed_state(new_state):\n",
    "    left = [i for i in range(len(new_state)-1) if new_state[i] == 0]\n",
    "    right = [i for i in range(len(new_state)-1) if new_state[i] == 1]\n",
    "    if tuple(left) in permitted_states:\n",
    "        return False\n",
    "    elif tuple(right) in permitted_states:\n",
    "        return False\n",
    "    else:\n",
    "        return True"
   ]
  },
  {
   "cell_type": "code",
   "execution_count": 25,
   "id": "cb44277f-5386-4918-93d6-2c38d4a9d211",
   "metadata": {},
   "outputs": [
    {
     "data": {
      "text/plain": [
       "False"
      ]
     },
     "execution_count": 25,
     "metadata": {},
     "output_type": "execute_result"
    }
   ],
   "source": [
    "check_allowed_state((1,1,0,0,0,1,0))"
   ]
  },
  {
   "cell_type": "code",
   "execution_count": 52,
   "id": "587938b9-f4ba-4708-8804-99ea4f1988fc",
   "metadata": {},
   "outputs": [
    {
     "data": {
      "text/plain": [
       "[(0, 0, 0, 0, 0, 0, 0),\n",
       " (1, 0, 0, 0, 1, 0, 1),\n",
       " (0, 0, 0, 0, 1, 0, 0),\n",
       " (1, 0, 0, 1, 1, 0, 1),\n",
       " (0, 0, 0, 1, 1, 0, 0),\n",
       " (1, 0, 1, 1, 1, 0, 1),\n",
       " (1, 0, 0, 1, 1, 0, 0),\n",
       " (1, 1, 1, 1, 1, 0, 1),\n",
       " (1, 0, 1, 1, 1, 0, 0),\n",
       " (1, 1, 1, 1, 1, 1, 1)]"
      ]
     },
     "execution_count": 52,
     "metadata": {},
     "output_type": "execute_result"
    }
   ],
   "source": [
    "initial_state = (0,0,0,0,0,0,0)\n",
    "goal_state = (1,1,1,1,1,1,1)\n",
    "search_path(initial_state, goal_state)"
   ]
  },
  {
   "cell_type": "code",
   "execution_count": null,
   "id": "fa3b89e9-a5db-4442-aa35-9b0c99d78f5d",
   "metadata": {},
   "outputs": [],
   "source": []
  }
 ],
 "metadata": {
  "kernelspec": {
   "display_name": "Python 3 (ipykernel)",
   "language": "python",
   "name": "python3"
  },
  "language_info": {
   "codemirror_mode": {
    "name": "ipython",
    "version": 3
   },
   "file_extension": ".py",
   "mimetype": "text/x-python",
   "name": "python",
   "nbconvert_exporter": "python",
   "pygments_lexer": "ipython3",
   "version": "3.9.12"
  }
 },
 "nbformat": 4,
 "nbformat_minor": 5
}
