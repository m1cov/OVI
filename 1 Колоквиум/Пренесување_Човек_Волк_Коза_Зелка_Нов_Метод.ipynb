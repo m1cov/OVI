{
 "cells": [
  {
   "cell_type": "markdown",
   "id": "377a4e7f-f012-498f-a3be-6e280ed0d4bb",
   "metadata": {},
   "source": [
    "Пренесување човек, волк, коза и зелка преку река - нов начин на решавање"
   ]
  },
  {
   "cell_type": "code",
   "execution_count": 2,
   "id": "1bcdf463-adbe-44cd-8466-f5a125efdf17",
   "metadata": {},
   "outputs": [],
   "source": [
    "from collections import deque\n",
    "from itertools import permutations"
   ]
  },
  {
   "cell_type": "code",
   "execution_count": 3,
   "id": "eef14b21-ad60-4781-88e5-f3dbb405e2d8",
   "metadata": {},
   "outputs": [],
   "source": [
    "permitted_states = [(1,2),(1,2,3),(2,3)]"
   ]
  },
  {
   "cell_type": "code",
   "execution_count": 14,
   "id": "10136e24-1f51-40b5-8b5b-afddcdd77eea",
   "metadata": {},
   "outputs": [],
   "source": [
    "in_boat = [(0,),(0,1),(0,2),(0,3)]"
   ]
  },
  {
   "cell_type": "code",
   "execution_count": 5,
   "id": "cd3a52da-7a91-4f67-ba34-f8d3b3307e61",
   "metadata": {},
   "outputs": [],
   "source": [
    "available_moves = set()\n",
    "\n",
    "moves = permutations([0, 0, 0, 0, 1], 5)\n",
    "for i in moves:\n",
    "    available_moves.add(i)\n",
    "\n",
    "moves = permutations([0, 0, 0, 1, 1], 5)\n",
    "for i in moves:\n",
    "    available_moves.add(i)\n",
    "\n",
    "moves = permutations([0, 0, 1, 1, 1], 5)\n",
    "for i in moves:\n",
    "    available_moves.add(i)\n",
    "\n",
    "moves = permutations([0, 1, 1, 1, 1], 5)\n",
    "for i in moves:\n",
    "    available_moves.add(i)\n",
    "\n",
    "available_moves.add((0, 0, 0, 0, 0))\n",
    "available_moves.add((1, 1, 1, 1, 1))\n",
    "\n",
    "available_moves = list(available_moves)"
   ]
  },
  {
   "cell_type": "code",
   "execution_count": 6,
   "id": "72cad24c-1b11-4513-a692-77d624a06ec3",
   "metadata": {},
   "outputs": [],
   "source": [
    "def search_path(initial_state, goal_state):\n",
    "    visited = {initial_state}\n",
    "    queue = deque([[initial_state]])\n",
    "    while queue:\n",
    "        state_list = queue.popleft()\n",
    "        state_to_expand = state_list[-1]\n",
    "        for next_state in expand_state(state_to_expand):\n",
    "            if next_state not in visited:\n",
    "                if next_state == goal_state:\n",
    "                    return state_list + [next_state]\n",
    "                visited.add(next_state)\n",
    "                queue.append(state_list + [next_state])\n",
    "    return []"
   ]
  },
  {
   "cell_type": "code",
   "execution_count": 7,
   "id": "04b5634e-412d-40fb-8d48-48881e374c08",
   "metadata": {},
   "outputs": [],
   "source": [
    "def expand_state(state):\n",
    "    new_states = []\n",
    "    for new_state in available_moves:\n",
    "        if is_valid(state, new_state):\n",
    "            new_states.append(new_state)\n",
    "    return new_states"
   ]
  },
  {
   "cell_type": "code",
   "execution_count": 8,
   "id": "24119850-90de-46ba-a112-86d72aeff0da",
   "metadata": {},
   "outputs": [],
   "source": [
    "def is_valid(state, new_state):\n",
    "    if state[-1] == new_state[-1]:\n",
    "        return False\n",
    "    else:\n",
    "        helper = []\n",
    "        for i in range(len(state)-1):\n",
    "            if state[i] != state[-1] and state[i] != new_state[i]:\n",
    "                return False\n",
    "            else:\n",
    "                if state[i] != new_state[i]:\n",
    "                    helper.append(i)\n",
    "            \n",
    "        for passengers in in_boat:\n",
    "            if len(passengers) == len(helper):\n",
    "                for i in helper:\n",
    "                    counter = False\n",
    "                    if i not in passengers:\n",
    "                        break\n",
    "                    counter = True\n",
    "                if counter:\n",
    "                    if check_allowed_state(new_state):\n",
    "                        return True\n",
    "    return False "
   ]
  },
  {
   "cell_type": "code",
   "execution_count": 9,
   "id": "b1a4fba9-977c-463b-b50e-932ff708a66f",
   "metadata": {},
   "outputs": [],
   "source": [
    "def check_allowed_state(new_state):\n",
    "    left = [i for i in range(len(new_state)-1) if new_state[i] == 0]\n",
    "    right = [i for i in range(len(new_state)-1) if new_state[i] == 1]\n",
    "    if tuple(left) in permitted_states:\n",
    "        return False\n",
    "    elif tuple(right) in permitted_states:\n",
    "        return False\n",
    "    else:\n",
    "        return True"
   ]
  },
  {
   "cell_type": "code",
   "execution_count": 16,
   "id": "8823b020-de7e-4a50-acb4-6e55cf907a47",
   "metadata": {},
   "outputs": [
    {
     "data": {
      "text/plain": [
       "[(0, 0, 0, 0, 0),\n",
       " (1, 0, 1, 0, 1),\n",
       " (0, 0, 1, 0, 0),\n",
       " (1, 1, 1, 0, 1),\n",
       " (0, 1, 0, 0, 0),\n",
       " (1, 1, 0, 1, 1),\n",
       " (0, 1, 0, 1, 0),\n",
       " (1, 1, 1, 1, 1)]"
      ]
     },
     "execution_count": 16,
     "metadata": {},
     "output_type": "execute_result"
    }
   ],
   "source": [
    "initial_state = (0,0,0,0,0)\n",
    "goal_state = (1,1,1,1,1)\n",
    "search_path(initial_state, goal_state)"
   ]
  },
  {
   "cell_type": "code",
   "execution_count": null,
   "id": "fcada2ed-7fa0-4fb1-8617-3f104242be31",
   "metadata": {},
   "outputs": [],
   "source": []
  }
 ],
 "metadata": {
  "kernelspec": {
   "display_name": "Python 3 (ipykernel)",
   "language": "python",
   "name": "python3"
  },
  "language_info": {
   "codemirror_mode": {
    "name": "ipython",
    "version": 3
   },
   "file_extension": ".py",
   "mimetype": "text/x-python",
   "name": "python",
   "nbconvert_exporter": "python",
   "pygments_lexer": "ipython3",
   "version": "3.9.12"
  }
 },
 "nbformat": 4,
 "nbformat_minor": 5
}
