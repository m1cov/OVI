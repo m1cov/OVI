{
 "cells": [
  {
   "cell_type": "markdown",
   "id": "4c09870b-2b53-4624-ab79-eed747a0f918",
   "metadata": {},
   "source": [
    "Предложете соодветна репрезентација и напишете ги потребните функции во Python за да се реши следниот проблем за кој една можна почетна состојба е прикажана на сликата Потребно е човечето безбедно да дојде до куќичката. Човечето може да се придвижува на кое било соседно поле хоризонтално или вертикално. Пречките 1 и 2 се подвижни, при што и двете пречки се движат вертикално. Секоја од пречките се придвижува за едно поле во соодветниот правец и насока со секое придвижување на човечето. Притоа, пречката 1 на почетокот се движи надолу, додека пречката 2 на почетокот се движи нагоре. Пример за положбата на пречките после едно придвижување на човечето надесно е прикажан на десната слика. Кога некоја пречка ќе дојде до крајот на таблата при што повеќе не може да се движи во насоката во која се движела, го менува движењето во спротивната насока. Доколку човечето и која било од пречките се најдат на исто поле човечето ќе биде уништено.\n",
    "\n",
    "За сите тест примери изгледот и големината на таблата се исти како на примерот даден на сликите. За сите тест примери почетните положби, правец и насока на движење за препреките се исти. За секој тест пример почетната позиција на човечето се менува, а исто така се менува и позицијата на куќичката.\n",
    "\n",
    "Во рамки на почетниот код даден за задачата се вчитуваат влезните аргументи за секој тест пример.\n",
    "\n",
    "Движењата на човечето потребно е да ги именувате на следниот начин:\n",
    "\n",
    "Right - за придвижување на човечето за едно поле надесно\n",
    "Left - за придвижување на човечето за едно поле налево\n",
    "Up - за придвижување на човечето за едно поле нагоре\n",
    "Down - за придвижување на човечето за едно поле надолу\n",
    "\n",
    "Вашиот код треба да има само еден повик на функција за приказ на стандарден излез (print) со кој ќе ја вратите секвенцата на движења која човечето треба да ја направи за да може од својата почетна позиција да стигне до позицијата на куќичката.\n",
    "\n",
    "Треба да примените неинформирано пребарување. Врз основа на тест примерите треба самите да определите кое пребарување ќе го користите.\n"
   ]
  },
  {
   "cell_type": "code",
   "execution_count": 23,
   "id": "788c6355-5301-4881-a585-a4e94c956b44",
   "metadata": {},
   "outputs": [
    {
     "data": {
      "image/png": "[encoded data removed]",
      "text/plain": [
       "<IPython.core.display.Image object>"
      ]
     },
     "execution_count": 23,
     "metadata": {
      "image/png": {
       "width": 300
      }
     },
     "output_type": "execute_result"
    }
   ],
   "source": [
    "from IPython import display\n",
    "display.Image('explorer1.png', width=300)"
   ]
  },
  {
   "cell_type": "code",
   "execution_count": 1,
   "id": "57b1f829-d044-4f9b-aa32-dd767d864c3e",
   "metadata": {},
   "outputs": [],
   "source": [
    "from collections import deque\n",
    "import heapq"
   ]
  },
  {
   "cell_type": "code",
   "execution_count": 2,
   "id": "a614c4f4-319c-4a53-91d0-c13bb27c3187",
   "metadata": {},
   "outputs": [],
   "source": [
    "def limits(i,j):\n",
    "    if 0 <= i <= 5 and 0 <= j <= 7:\n",
    "        return True"
   ]
  },
  {
   "cell_type": "code",
   "execution_count": 3,
   "id": "06b7a814-7d5c-4000-9765-e71b4809f290",
   "metadata": {},
   "outputs": [],
   "source": [
    "def find_obstacle_1(matrix_state):\n",
    "    for i, row in enumerate(matrix_state):\n",
    "        for j, column in enumerate(row):\n",
    "            if matrix_state[i][j] == 2:\n",
    "                return(i,j)\n",
    "    return(0,0)"
   ]
  },
  {
   "cell_type": "code",
   "execution_count": 4,
   "id": "f13c40fa-87d2-4fdb-95ce-c8bacb58079f",
   "metadata": {},
   "outputs": [],
   "source": [
    "def find_obstacle_2(matrix_state):\n",
    "    for i, row in enumerate(matrix_state):\n",
    "        for j, column in enumerate(row):\n",
    "            if column == 3:\n",
    "                return (i,j)\n",
    "    return (0,0)"
   ]
  },
  {
   "cell_type": "code",
   "execution_count": 5,
   "id": "ba1bb71a-71e5-4537-864c-5a5ad321e2ca",
   "metadata": {},
   "outputs": [],
   "source": [
    "def find_person(matrix_state):\n",
    "    for i, row in enumerate(matrix_state):\n",
    "        for j, column in enumerate(row):\n",
    "            if column == 1:\n",
    "                return (i,j)\n",
    "    return (0,0)"
   ]
  },
  {
   "cell_type": "code",
   "execution_count": 6,
   "id": "9fe47ea5-b4d0-4a21-92f5-ba9560a72662",
   "metadata": {},
   "outputs": [],
   "source": [
    "def same_position(i_p,j_p,state):\n",
    "    i_o1, j_o1 = find_obstacle_1(state)\n",
    "    i_o2, j_o2 = find_obstacle_2(state)\n",
    "\n",
    "    if (i_p == i_o1 and j_p == j_o1) or (i_p == i_o2 and j_p == j_o2):\n",
    "        return False\n",
    "    else:\n",
    "        return True"
   ]
  },
  {
   "cell_type": "code",
   "execution_count": 7,
   "id": "4dae838c-b43f-46b0-b0f3-a079a024fc67",
   "metadata": {},
   "outputs": [],
   "source": [
    "def end_check(state): \n",
    "    state_matrix = [list(row) for row in state]\n",
    "    i,j = find_person(state_matrix)\n",
    "    if i == 1 and j == 7:\n",
    "        return True"
   ]
  },
  {
   "cell_type": "code",
   "execution_count": 8,
   "id": "5af0f3af-3ba8-43e4-a8a2-0441f5c15fee",
   "metadata": {},
   "outputs": [],
   "source": [
    "def expand_state(state):\n",
    "    states = []\n",
    "    new_state_matrix = [list(row) for row in state]\n",
    "\n",
    "    moves_p = [(0,-1),(-1,0),(0,1),(1,0)]\n",
    "    moves_o1 = [(1,0),(1,0),(1,0),(1,0)]\n",
    "    moves_o2 = [(-1,0),(-1,0),(-1,0),(-1,0)]\n",
    "\n",
    "    i_p,j_p = find_person(new_state_matrix)\n",
    "    i_o1, j_o1 = find_obstacle_1(new_state_matrix)\n",
    "    i_o2, j_o2 = find_obstacle_2(new_state_matrix)\n",
    "\n",
    "    for (d_ip,d_jp),(d_io1,d_jo1),(d_io2,d_jo2) in zip(moves_p,moves_o1,moves_o2):\n",
    "        new_state_matrix = [list(row) for row in state]\n",
    "        new_ip = i_p + d_ip\n",
    "        new_jp = j_p + d_jp\n",
    "\n",
    "        new_io1 = i_o1 + d_io1\n",
    "        new_jo1 = j_o1 + d_jo1\n",
    "\n",
    "        new_io2 = i_o2 + d_io2\n",
    "        new_jo2 = j_o2 + d_jo2\n",
    "\n",
    "        if limits(new_ip,new_jp) and same_position(new_ip,new_jp,new_state_matrix):\n",
    "            new_state_matrix[i_p][j_p] = 0\n",
    "            new_state_matrix[new_ip][new_jp] = 1\n",
    "        if limits(new_io1,new_jo1):\n",
    "            new_state_matrix[i_o1][j_o1] = 0\n",
    "            new_state_matrix[new_io1][new_jo1] = 2\n",
    "        if limits(new_io2,new_jo2):\n",
    "            new_state_matrix[i_o2][j_o2] = 0\n",
    "            new_state_matrix[new_io2][new_jo2] = 3\n",
    "       \n",
    "\n",
    "        states.append(tuple(map(tuple,new_state_matrix)))\n",
    "\n",
    "    return states"
   ]
  },
  {
   "cell_type": "code",
   "execution_count": 9,
   "id": "bcad4c75-5820-4aa9-946d-36c6ea78434d",
   "metadata": {},
   "outputs": [],
   "source": [
    "def search_path(initial_state):\n",
    "    visited = {initial_state}\n",
    "    states_queue = deque([[initial_state]])\n",
    "    while states_queue:\n",
    "        states_list = states_queue.popleft()\n",
    "        state_to_expand = states_list[-1]\n",
    "        for next_state in expand_state(state_to_expand):\n",
    "            if next_state not in visited:\n",
    "                if end_check(next_state):\n",
    "                    return states_list + [next_state]\n",
    "                visited.add(next_state)\n",
    "                states_queue.append(states_list + [next_state])\n",
    "    return []"
   ]
  },
  {
   "cell_type": "code",
   "execution_count": 10,
   "id": "071a19bd-7280-4ac0-9474-86ba2b0cc50f",
   "metadata": {},
   "outputs": [],
   "source": [
    "def visualise_path(path):\n",
    "    for states in zip(path, path[1:]):\n",
    "        old_state, new_state = states\n",
    "        for row in new_state:\n",
    "            print(' '.join(map(str, row)))\n",
    "        \n",
    "        print()"
   ]
  },
  {
   "cell_type": "code",
   "execution_count": 18,
   "id": "f7afb9be-2ab1-484d-b692-eb8b77289cd6",
   "metadata": {},
   "outputs": [],
   "source": [
    "table = ((0,0,2,0,0,0,0,0),(0,1,0,0,0,0,0,4),(0,0,0,0,0,0,0,0),(0,0,0,0,0,0,0,0),(0,0,0,0,0,0,0,0),(0,0,0,0,0,3,0,0))\n",
    "table1 = [list(row) for row in table]"
   ]
  },
  {
   "cell_type": "code",
   "execution_count": 13,
   "id": "bf5ff155-00d0-43d8-b462-615f43365571",
   "metadata": {},
   "outputs": [
    {
     "name": "stdout",
     "output_type": "stream",
     "text": [
      "0 0 0 0 0 0 0 0\n",
      "0 0 2 0 0 0 0 4\n",
      "1 0 0 0 0 0 0 0\n",
      "0 0 0 0 0 0 0 0\n",
      "0 0 0 0 0 3 0 0\n",
      "0 0 0 0 0 0 0 0\n",
      "\n",
      "0 0 0 0 0 0 0 0\n",
      "1 0 0 0 0 0 0 4\n",
      "0 0 2 0 0 0 0 0\n",
      "0 0 0 0 0 3 0 0\n",
      "0 0 0 0 0 0 0 0\n",
      "0 0 0 0 0 0 0 0\n",
      "\n",
      "0 0 0 0 0 0 0 0\n",
      "0 1 0 0 0 0 0 4\n",
      "0 0 0 0 0 3 0 0\n",
      "0 0 2 0 0 0 0 0\n",
      "0 0 0 0 0 0 0 0\n",
      "0 0 0 0 0 0 0 0\n",
      "\n",
      "0 0 0 0 0 0 0 0\n",
      "0 0 1 0 0 3 0 4\n",
      "0 0 0 0 0 0 0 0\n",
      "0 0 0 0 0 0 0 0\n",
      "0 0 2 0 0 0 0 0\n",
      "0 0 0 0 0 0 0 0\n",
      "\n",
      "0 0 0 0 0 3 0 0\n",
      "0 0 0 1 0 0 0 4\n",
      "0 0 0 0 0 0 0 0\n",
      "0 0 0 0 0 0 0 0\n",
      "0 0 0 0 0 0 0 0\n",
      "0 0 2 0 0 0 0 0\n",
      "\n",
      "0 0 0 0 0 3 0 0\n",
      "0 0 0 0 1 0 0 4\n",
      "0 0 0 0 0 0 0 0\n",
      "0 0 0 0 0 0 0 0\n",
      "0 0 0 0 0 0 0 0\n",
      "0 0 2 0 0 0 0 0\n",
      "\n",
      "0 0 0 0 0 3 0 0\n",
      "0 0 0 0 0 1 0 4\n",
      "0 0 0 0 0 0 0 0\n",
      "0 0 0 0 0 0 0 0\n",
      "0 0 0 0 0 0 0 0\n",
      "0 0 2 0 0 0 0 0\n",
      "\n",
      "0 0 0 0 0 3 0 0\n",
      "0 0 0 0 0 0 1 4\n",
      "0 0 0 0 0 0 0 0\n",
      "0 0 0 0 0 0 0 0\n",
      "0 0 0 0 0 0 0 0\n",
      "0 0 2 0 0 0 0 0\n",
      "\n",
      "0 0 0 0 0 3 0 0\n",
      "0 0 0 0 0 0 0 1\n",
      "0 0 0 0 0 0 0 0\n",
      "0 0 0 0 0 0 0 0\n",
      "0 0 0 0 0 0 0 0\n",
      "0 0 2 0 0 0 0 0\n",
      "\n"
     ]
    }
   ],
   "source": [
    "a = search_path(table)\n",
    "visualise_path(a)"
   ]
  },
  {
   "cell_type": "code",
   "execution_count": null,
   "id": "c7333a83-135b-4b5e-bd9c-d7ea9689a3be",
   "metadata": {},
   "outputs": [],
   "source": []
  },
  {
   "cell_type": "code",
   "execution_count": 19,
   "id": "a715bf15-5f9c-41e6-9219-d43d5c161eb7",
   "metadata": {},
   "outputs": [],
   "source": [
    "def a_star_search(starting_vertex, heuristic_function, alpha=1):\n",
    "    expanded = set()\n",
    "    queue = [((0, 0), [starting_vertex])]\n",
    "    heapq.heapify(queue)\n",
    "    c = 0\n",
    "    while queue:\n",
    "        c += 1\n",
    "        weight_tuple, vertex_list = heapq.heappop(queue)\n",
    "        current_a_star_weight, current_path_weight = weight_tuple\n",
    "        vertex_to_expand = vertex_list[-1]\n",
    "        if end_check(vertex_to_expand):\n",
    "            return current_path_weight, vertex_list, c\n",
    "        if vertex_to_expand in expanded:\n",
    "            continue\n",
    "        for neighbour in expand_state(vertex_to_expand):\n",
    "            if neighbour not in expanded:\n",
    "                heuristic = heuristic_function(neighbour)\n",
    "                path_weight = current_path_weight + 1\n",
    "                a_star_weight = path_weight + alpha * heuristic\n",
    "                heapq.heappush(queue, ((a_star_weight, path_weight), vertex_list + [neighbour]))\n",
    "        expanded.add(vertex_to_expand)"
   ]
  },
  {
   "cell_type": "code",
   "execution_count": 20,
   "id": "a7dfb9d8-44f6-41b4-95c1-ad2b23c20f05",
   "metadata": {},
   "outputs": [],
   "source": [
    "def manhattan_distance(state):\n",
    "    matrix_explorer = [list(row) for row in state]\n",
    "    i_p, j_p = find_person(matrix_explorer)\n",
    "    return abs(i_p - 1) + abs(j_p - 7)\n"
   ]
  },
  {
   "cell_type": "code",
   "execution_count": 21,
   "id": "26af1c40-7f9b-4ebc-a7bd-ca65a9751d62",
   "metadata": {},
   "outputs": [],
   "source": [
    "def h(state):\n",
    "    distance = manhattan_distance(state)\n",
    "    return distance"
   ]
  },
  {
   "cell_type": "code",
   "execution_count": 22,
   "id": "214aee5a-fc41-450e-9ae5-ce39bd9ad8a5",
   "metadata": {},
   "outputs": [
    {
     "data": {
      "text/plain": [
       "(8,\n",
       " [((0, 0, 2, 0, 0, 0, 0, 0),\n",
       "   (0, 1, 0, 0, 0, 0, 0, 4),\n",
       "   (0, 0, 0, 0, 0, 0, 0, 0),\n",
       "   (0, 0, 0, 0, 0, 0, 0, 0),\n",
       "   (0, 0, 0, 0, 0, 0, 0, 0),\n",
       "   (0, 0, 0, 0, 0, 3, 0, 0)),\n",
       "  ((0, 0, 0, 0, 0, 0, 0, 0),\n",
       "   (0, 0, 2, 0, 0, 0, 0, 4),\n",
       "   (0, 1, 0, 0, 0, 0, 0, 0),\n",
       "   (0, 0, 0, 0, 0, 0, 0, 0),\n",
       "   (0, 0, 0, 0, 0, 3, 0, 0),\n",
       "   (0, 0, 0, 0, 0, 0, 0, 0)),\n",
       "  ((0, 0, 0, 0, 0, 0, 0, 0),\n",
       "   (0, 1, 0, 0, 0, 0, 0, 4),\n",
       "   (0, 0, 2, 0, 0, 0, 0, 0),\n",
       "   (0, 0, 0, 0, 0, 3, 0, 0),\n",
       "   (0, 0, 0, 0, 0, 0, 0, 0),\n",
       "   (0, 0, 0, 0, 0, 0, 0, 0)),\n",
       "  ((0, 0, 0, 0, 0, 0, 0, 0),\n",
       "   (0, 0, 1, 0, 0, 0, 0, 4),\n",
       "   (0, 0, 0, 0, 0, 3, 0, 0),\n",
       "   (0, 0, 2, 0, 0, 0, 0, 0),\n",
       "   (0, 0, 0, 0, 0, 0, 0, 0),\n",
       "   (0, 0, 0, 0, 0, 0, 0, 0)),\n",
       "  ((0, 0, 0, 0, 0, 0, 0, 0),\n",
       "   (0, 0, 0, 1, 0, 3, 0, 4),\n",
       "   (0, 0, 0, 0, 0, 0, 0, 0),\n",
       "   (0, 0, 0, 0, 0, 0, 0, 0),\n",
       "   (0, 0, 2, 0, 0, 0, 0, 0),\n",
       "   (0, 0, 0, 0, 0, 0, 0, 0)),\n",
       "  ((0, 0, 0, 0, 0, 3, 0, 0),\n",
       "   (0, 0, 0, 0, 1, 0, 0, 4),\n",
       "   (0, 0, 0, 0, 0, 0, 0, 0),\n",
       "   (0, 0, 0, 0, 0, 0, 0, 0),\n",
       "   (0, 0, 0, 0, 0, 0, 0, 0),\n",
       "   (0, 0, 2, 0, 0, 0, 0, 0)),\n",
       "  ((0, 0, 0, 0, 0, 3, 0, 0),\n",
       "   (0, 0, 0, 0, 0, 1, 0, 4),\n",
       "   (0, 0, 0, 0, 0, 0, 0, 0),\n",
       "   (0, 0, 0, 0, 0, 0, 0, 0),\n",
       "   (0, 0, 0, 0, 0, 0, 0, 0),\n",
       "   (0, 0, 2, 0, 0, 0, 0, 0)),\n",
       "  ((0, 0, 0, 0, 0, 3, 0, 0),\n",
       "   (0, 0, 0, 0, 0, 0, 1, 4),\n",
       "   (0, 0, 0, 0, 0, 0, 0, 0),\n",
       "   (0, 0, 0, 0, 0, 0, 0, 0),\n",
       "   (0, 0, 0, 0, 0, 0, 0, 0),\n",
       "   (0, 0, 2, 0, 0, 0, 0, 0)),\n",
       "  ((0, 0, 0, 0, 0, 3, 0, 0),\n",
       "   (0, 0, 0, 0, 0, 0, 0, 1),\n",
       "   (0, 0, 0, 0, 0, 0, 0, 0),\n",
       "   (0, 0, 0, 0, 0, 0, 0, 0),\n",
       "   (0, 0, 0, 0, 0, 0, 0, 0),\n",
       "   (0, 0, 2, 0, 0, 0, 0, 0))],\n",
       " 19)"
      ]
     },
     "execution_count": 22,
     "metadata": {},
     "output_type": "execute_result"
    }
   ],
   "source": [
    "a_star_search(table,heuristic_function = manhattan_distance)"
   ]
  },
  {
   "cell_type": "code",
   "execution_count": null,
   "id": "5a682741-9aa6-40d0-9251-2fb40775828c",
   "metadata": {},
   "outputs": [],
   "source": []
  }
 ],
 "metadata": {
  "kernelspec": {
   "display_name": "Python 3 (ipykernel)",
   "language": "python",
   "name": "python3"
  },
  "language_info": {
   "codemirror_mode": {
    "name": "ipython",
    "version": 3
   },
   "file_extension": ".py",
   "mimetype": "text/x-python",
   "name": "python",
   "nbconvert_exporter": "python",
   "pygments_lexer": "ipython3",
   "version": "3.11.6"
  }
 },
 "nbformat": 4,
 "nbformat_minor": 5
}
