{
 "cells": [
  {
   "cell_type": "markdown",
   "id": "389a6c7b-92de-412d-a029-aa2524de424d",
   "metadata": {
    "tags": []
   },
   "source": [
    "# Државни Патишта\n",
    "\n",
    "## Лабораториска вежба 2"
   ]
  },
  {
   "cell_type": "markdown",
   "id": "4f7a3321-3ad8-4830-bd05-33fa52ce27a9",
   "metadata": {},
   "source": [
    "Задачи:\n",
    "\n",
    "- Користејќи ги податоците за државните патишта во папката `code/data/roads`, направете граф од патиштата во Македонија.\n",
    "- Бидејќи податоците се само за државните патишта, а не и општинските, испаѓа дека има клучки кои се неповрзани со сите останати. Избројте колку такви засебни графови има во податоците.\n",
    "- Користејќи го кодот од ваш постар колега, Васе Трендафилов, прикачен во `code/Maps.ipynb`, направете мапа каде секоја клучка ќе биде претставена со посебна боја. Ова всушност веќе е направено, ама издвојте го кодот кој ви треба.\n",
    "- Поврзете ги точките со линии, за да можеме да ја визуелизираме патната мрежа во Македонија. Побарајте помош од [документацијата на Плотли](https://plotly.com/python/), и [примерите за цртање scatter plot](https://plotly.com/python/line-and-scatter/) попрецизно.\n",
    "\n",
    "Бонус задача за 3 поени:\n",
    "\n",
    "- Користејќи ја тетратката Roads_scrapper во папката `other`, симнете ги најновите податоци за државните патишта од страната на Јавното Претппријатие за Државни Патишта. Скриптата најверојатно ќе проработи од прва, откако ќе го инсталирате пакетот selenium и gecko драјверот на Firefox, а можеби и нема, па ќе треба да ја поправите, или пак да ја вклучите повторно ако процесот за прибирање податоци се прекине ненадејно. Првиот студент кој ќе направи merge-request на гитлаб, со прибраните податоци, ги добива поените."
   ]
  },
  {
   "cell_type": "code",
   "execution_count": 10,
   "id": "ded438a0-c85b-4b19-a94b-23632a700454",
   "metadata": {},
   "outputs": [],
   "source": [
    "import pandas as pd\n",
    "from plotly import graph_objects as go\n",
    "from graph import Graph\n",
    "from queue import deque"
   ]
  },
  {
   "cell_type": "code",
   "execution_count": 11,
   "id": "c6a8938e-bab6-40b7-bc66-9a27e1da6000",
   "metadata": {},
   "outputs": [],
   "source": [
    "g = Graph()\n",
    "files = pd.read_csv('data/roads/roads_info.csv')['Кратенка']\n",
    "for file in files:\n",
    "    df = pd.read_csv(f'data/roads/{file}.csv')\n",
    "    df['ОД'] = df['ЈАЗОЛ НА ПОЧЕТОКОТ']\n",
    "    df['ДО'] = df['ЈАЗОЛ НА КРАЈОТ']\n",
    "    for row in df.itertuples():\n",
    "        g.add_vertex(row.ОД)\n",
    "        g.add_vertex(row.ДО)\n",
    "        g.add_edge((row.ОД, row.ДО))"
   ]
  },
  {
   "cell_type": "code",
   "execution_count": 17,
   "id": "ddc03996-cfc7-4150-81a8-9301228b237e",
   "metadata": {},
   "outputs": [],
   "source": [
    "def bfs(graph, starting_vertex, goal_vertex):\n",
    "    if starting_vertex == goal_vertex:\n",
    "        return []\n",
    "    visited = {starting_vertex}\n",
    "    queue = deque([[starting_vertex]])\n",
    "    while queue:\n",
    "        vertex_list = queue.popleft()\n",
    "        vertex_to_expand = vertex_list[-1]\n",
    "        for neighbour in graph.neighbours(vertex_to_expand):\n",
    "            if neighbour not in visited:\n",
    "                if neighbour == goal_vertex:\n",
    "                    return vertex_list + [neighbour]\n",
    "                visited.add(neighbour)\n",
    "                queue.append(vertex_list + [neighbour])\n",
    "    return visited"
   ]
  },
  {
   "cell_type": "code",
   "execution_count": 18,
   "id": "86ce8277-751c-4d49-b71f-160e0c864a55",
   "metadata": {},
   "outputs": [
    {
     "data": {
      "text/plain": [
       "755"
      ]
     },
     "execution_count": 18,
     "metadata": {},
     "output_type": "execute_result"
    }
   ],
   "source": [
    "len(g.vertices())"
   ]
  },
  {
   "cell_type": "code",
   "execution_count": 19,
   "id": "2f41e4d6-9d75-496f-841d-3b82b1b9edf3",
   "metadata": {},
   "outputs": [
    {
     "data": {
      "text/plain": [
       "348"
      ]
     },
     "execution_count": 19,
     "metadata": {},
     "output_type": "execute_result"
    }
   ],
   "source": [
    "visited = bfs(g, '174 - Миладиновци 1 (автопат)', 'Месечина')\n",
    "len(visited)"
   ]
  },
  {
   "cell_type": "code",
   "execution_count": 20,
   "id": "ded2b710-cb3e-4ce8-a120-8988bb7d6b4e",
   "metadata": {},
   "outputs": [],
   "source": [
    "all_junctions = set(g.vertices())\n",
    "counter = 0\n",
    "while all_junctions:\n",
    "    random_junction = list(all_junctions)[0]\n",
    "    visited = bfs(g, random_junction, 'Месечина')\n",
    "    all_junctions = all_junctions.difference(visited)\n",
    "    counter += 1"
   ]
  },
  {
   "cell_type": "code",
   "execution_count": 21,
   "id": "e0a2750d-5baa-4be9-bebd-196cf607611d",
   "metadata": {},
   "outputs": [
    {
     "data": {
      "text/plain": [
       "159"
      ]
     },
     "execution_count": 21,
     "metadata": {},
     "output_type": "execute_result"
    }
   ],
   "source": [
    "counter"
   ]
  },
  {
   "cell_type": "code",
   "execution_count": null,
   "id": "ab2bcb25-624e-48ec-8e2d-edff72a28322",
   "metadata": {},
   "outputs": [],
   "source": []
  }
 ],
 "metadata": {
  "kernelspec": {
   "display_name": "Python 3 (ipykernel)",
   "language": "python",
   "name": "python3"
  },
  "language_info": {
   "codemirror_mode": {
    "name": "ipython",
    "version": 3
   },
   "file_extension": ".py",
   "mimetype": "text/x-python",
   "name": "python",
   "nbconvert_exporter": "python",
   "pygments_lexer": "ipython3",
   "version": "3.11.4"
  }
 },
 "nbformat": 4,
 "nbformat_minor": 5
}
