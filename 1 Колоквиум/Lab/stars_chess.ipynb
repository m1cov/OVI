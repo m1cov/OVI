{
 "cells": [
  {
   "cell_type": "markdown",
   "id": "a9a7a3bf-7b81-4782-9473-b0af94ff8d1a",
   "metadata": {},
   "source": [
    "Предложете соодветна репрезентација и напишете ги потребните функции во Python за да се реши следниот проблем \n",
    "за кој една можна почетна состојба е прикажана на сликата.\n",
    "На шаховска табла 8x8 поставени се еден коњ, еден ловец и три ѕвезди. \n",
    "Движењето на коњите на шаховската табла е во облик на буквата Г: притоа, од дадена позиција можни се 8 позиции до кои даден коњ може да се придвижи,\n",
    "како што е прикажано на сликата (1 = горе + горе + лево, 2 = горе + горе + десно, 3 = десно + десно + горе, 4 = десно + десно + долу, 5 = долу + + долу + десно, 6 = долу + долу + лево, 7 = лево + лево + долу, 8 = лево + лево + горе)\n",
    "Движењето на ловците на таблата е по дијагонала. \n",
    "Ловецот прикажан на сликата може да се придвижи на кое било од полињата означени со X.\n",
    "Целта на играта е да се соберат сите три ѕвезди. \n",
    "Една ѕвезда се собира доколку некоја од фигурите застане на истото поле каде што се наоѓа и ѕвездата.\n",
    "\n",
    "Притоа, не е дозволено двете фигури да бидат позиционирани на истото поле и \n",
    "не е дозволено фигурите да излегуваат од таблата. \n",
    "Фигурите меѓусебно не се напаѓаат. \n",
    "Движењето на фигурите е произволно, т.е. во кој било момент може да се придвижи која било од двете фигури. \n",
    "Потребно е проблемот да се реши во најмал број на потези.\n",
    "\n",
    "За сите тест примери изгледот и големината на таблата се исти како на примерот даден на сликата. \n",
    "За секој тест пример положбите на ѕвездите се различни. \n",
    "Исто така, за секој тест пример се менуваат и почетните позиции на коњот и ловецот, соодветно. \n",
    "Во рамки на почетниот код даден за задачата се вчитуваат влезните аргументи за секој тест пример.\n",
    "\n",
    "Движењата на коњот потребно е да ги именувате на следниот начин:\n",
    "\n",
    "    K1 - за придвижување од тип 1 (горе + лево)\n",
    "    K2 - за придвижување од тип 2 (горе + десно)\n",
    "    K3 - за придвижување од тип 3 (десно + горе)\n",
    "    K4 - за придвижување од тип 4 (десно + долу)\n",
    "    K5 - за придвижување од тип 5 (долу + десно)\n",
    "    K6 - за придвижување од тип 6 (долу + лево)\n",
    "    K7 - за придвижување од тип 7 (лево + долу)\n",
    "    K8 - за придвижување од тип 8 (лево + горе)\n",
    "\n",
    "Движењата на ловецот потребно е да ги именувате на следниот начин:\n",
    "\n",
    "    B1 - за придвижување од тип 1 (движење за едно поле во насока горе-лево)\n",
    "    B2 - за придвижување од тип 2 (движење за едно поле во насока горе-десно)\n",
    "    B3 - за придвижување од тип 3 (движење за едно поле во насока долу-лево)\n",
    "    B4 - за придвижување од тип 4 (движење за едно поле во насока долу-десно)\n",
    "\n",
    "Вашиот код треба да има само еден повик на функција за приказ на стандарден излез (print) \n",
    "со кој ќе ја вратите секвенцата на движења која \n",
    "треба да се направи за да може фигурите да ги соберат сите три ѕвезди. \n",
    "Треба да примените неинформирано пребарување. \n",
    "Врз основа на тест примерите треба самите да определите кое пребарување ќе го користите."
   ]
  },
  {
   "cell_type": "code",
   "execution_count": 1,
   "id": "20453e47-70e5-4e38-b51e-2f8ff5de8ccb",
   "metadata": {},
   "outputs": [],
   "source": [
    "#from PIL import Image\n",
    "#image = Image.open(\"stars1.png\")\n",
    "#image.show()"
   ]
  },
  {
   "cell_type": "code",
   "execution_count": 3,
   "id": "6725d399-2cb1-4976-b7aa-302a727a3b96",
   "metadata": {},
   "outputs": [
    {
     "data": {
      "image/png": "[encoded data removed]",
      "text/plain": [
       "<IPython.core.display.Image object>"
      ]
     },
     "execution_count": 3,
     "metadata": {
      "image/png": {
       "width": 300
      }
     },
     "output_type": "execute_result"
    }
   ],
   "source": [
    "from IPython import display\n",
    "display.Image('stars1.png', width=300)"
   ]
  },
  {
   "cell_type": "code",
   "execution_count": 15,
   "id": "2685fdde-92ac-4495-8484-c12eb7b42f8d",
   "metadata": {},
   "outputs": [],
   "source": [
    "from collections import deque\n",
    "import os"
   ]
  },
  {
   "cell_type": "markdown",
   "id": "fe574462-e1e9-4201-a0e1-940cdbf89c64",
   "metadata": {},
   "source": [
    "def knight_move(state): #site mozni dvezenja na konjot\n",
    "    states = []\n",
    "    x,y = state\n",
    "    possible_moves = [(x+1,y+2),(x+1,y-2),(x-1,y+2),(x-1,y-2),(x+2,y+1),(x+2,y-1),(x-2,y+1),(x-2,y-1)]\n",
    "    for m,n in possible_moves:\n",
    "        states.append((m,n))\n",
    "    return states"
   ]
  },
  {
   "cell_type": "markdown",
   "id": "5cb9c974-82e9-41d5-b107-d73b83ceaae5",
   "metadata": {},
   "source": [
    "def bishop_move(state):\n",
    "    states = []\n",
    "    x,y = state\n",
    "    possible_moves = [(x+1,y+1),(x-1,y-1),(x+1,y-1),(x-1,y+1)]\n",
    "    for m,n in possible_moves:\n",
    "        if m >= 0 and m <= 7 and n >= 0 and m <= 7:\n",
    "            states.append((m,n))\n",
    "    return states\n",
    "    "
   ]
  },
  {
   "cell_type": "markdown",
   "id": "c7188580-255b-4356-aeeb-fb9b15bd87b9",
   "metadata": {},
   "source": [
    "def search_path(initial_states,star_states):\n",
    "    visited = {initial_states}\n",
    "    states_queue = deque([[initial_state]])\n",
    "    while states_queue:\n",
    "        current_position = states_queue.popleft()\n",
    "        #ako nema povekje dzvezdi na tablata togas sme stignale do resenieto\n",
    "        if not star_positions:\n",
    "            return True\n",
    "        visited.add((current_position[0],current_position[1],tuple(star_states))) #ja dodavame vo m-vo poz na konjot, na \n",
    "\n",
    "        for piece in [\"knight\", \"bishop\"]:\n",
    "            x, y = current_positions[0] if piece == \"knight\" else current_positions[1]\n",
    "    "
   ]
  },
  {
   "cell_type": "code",
   "execution_count": null,
   "id": "21803575-4ec4-47e5-9120-c63c4f0c2337",
   "metadata": {},
   "outputs": [],
   "source": []
  },
  {
   "cell_type": "code",
   "execution_count": 29,
   "id": "b607dc4d-8f48-4cc5-8b0f-5a0bed723fa1",
   "metadata": {},
   "outputs": [],
   "source": [
    "def end_check(state):\n",
    "    table_check_matrix = [list(row) for row in state]\n",
    "    count_stars = sum(row.count(3) for row in table_check_matrix) #ovde broj kolku trojki ima na matricata ako nema trojki togas ja resivme zad\n",
    "    #print(count_1)\n",
    "    if count_stars == 0:\n",
    "        return True\n",
    "    else:\n",
    "        return False"
   ]
  },
  {
   "cell_type": "code",
   "execution_count": 30,
   "id": "00a5c564-1644-4e71-b9b9-303d4a457929",
   "metadata": {},
   "outputs": [],
   "source": [
    "def limits_of_table(state):\n",
    "    x,y = state\n",
    "    if 0 <= x and x <= 7 and 0 <= y and y <= 7:\n",
    "        return True\n",
    "    else:\n",
    "        return False\n",
    "    \n",
    "    "
   ]
  },
  {
   "cell_type": "code",
   "execution_count": 31,
   "id": "00256426-00af-46c9-8762-aa7f89fddbca",
   "metadata": {},
   "outputs": [],
   "source": [
    "def same_position(state_knight, state_bishop):\n",
    "    x,y = state_knight\n",
    "    w,z = state_bishop\n",
    "\n",
    "    if x == w and y == z:\n",
    "        return False\n",
    "    #else:\n",
    "     #   return True"
   ]
  },
  {
   "cell_type": "code",
   "execution_count": 32,
   "id": "e5d648c1-c84b-4fea-8f2a-a801d4c85584",
   "metadata": {},
   "outputs": [],
   "source": [
    "#same_position((2,3),(1,3))"
   ]
  },
  {
   "cell_type": "code",
   "execution_count": 33,
   "id": "901d5c09-e4e3-431b-8db3-590506136886",
   "metadata": {},
   "outputs": [],
   "source": [
    "def find_pos_knight(matrix_state):\n",
    "    for i, row in enumerate(matrix_state):\n",
    "        for j, column in enumerate(row):\n",
    "            if matrix_state[i][j] == 1:\n",
    "                return (i,j)\n",
    "    return(0,0)"
   ]
  },
  {
   "cell_type": "code",
   "execution_count": 34,
   "id": "f36a33ca-5c93-44ba-ba83-c5fdccb7f6e2",
   "metadata": {},
   "outputs": [],
   "source": [
    "def find_pos_bishop(matrix_state):\n",
    "    for i, row in enumerate(matrix_state):\n",
    "        for j, column in enumerate(row):\n",
    "            if matrix_state[i][j] == 2:\n",
    "                return (i,j)\n",
    "    return (0,0)"
   ]
  },
  {
   "cell_type": "code",
   "execution_count": 35,
   "id": "c5bfdabf-8cac-49c0-9f1e-60e5532e92eb",
   "metadata": {},
   "outputs": [],
   "source": [
    "def expand_state(state):\n",
    "    states = []\n",
    "    new_state_matrix = [list(row) for row in state]\n",
    "\n",
    "    possible_moves_bishop = [(1, 1),(1, -1),(-1, 1),(-1, -1),(1, 1),(1, -1),(-1, 1),(-1, -1)]\n",
    "    possible_moves_knight = [(1,2), (2,1), (-1,-2), (-2,-1), (-1,2), (2,-1), (-2,1), (1,-2)]\n",
    "    \n",
    "    x,y = find_pos_knight(new_state_matrix)\n",
    "    w,z = find_pos_bishop(new_state_matrix)\n",
    "\n",
    "    for (dx,dy),(dw,dz) in zip(possible_moves_knight, possible_moves_bishop):\n",
    "        new_state_matrix = [list(row) for row in state]\n",
    "        new_x = x + dx\n",
    "        new_y = y + dy\n",
    "        new_w = w + dw\n",
    "        new_z = z + dz\n",
    "        #print(new_x,new_y,new_w,new_z)\n",
    "        if same_position((new_x,new_y),(new_w,new_z)):\n",
    "            if limits_of_table((new_x,new_y)):\n",
    "                new_state_matrix[x][y] = 0\n",
    "                new_state_matrix[new_x][new_y] = 1\n",
    "            if limits_of_table((new_w,new_z)):\n",
    "                new_state_matrix[w][z] = 0\n",
    "                new_state_matrix[new_w][new_z] = 2\n",
    "            states.append(tuple(map(tuple,new_state_matrix)))\n",
    "    return states "
   ]
  },
  {
   "cell_type": "code",
   "execution_count": 36,
   "id": "995b180b-e8fa-4d35-8784-e902b669cc54",
   "metadata": {},
   "outputs": [],
   "source": [
    "#expand_state(((0,1,2,0),(0,2,0,0),(3,0,3,0),(0,0,3,0)))"
   ]
  },
  {
   "cell_type": "code",
   "execution_count": 37,
   "id": "40d4e8e8-c8bf-45bc-8116-2c9641ea641c",
   "metadata": {},
   "outputs": [],
   "source": [
    "def search_path(initial_state):\n",
    "    visited = {initial_state}\n",
    "    states_queue = deque([[initial_state]])\n",
    "    while states_queue:\n",
    "        states_list = states_queue.popleft()\n",
    "        state_to_expand = states_list[-1]\n",
    "        for next_state in expand_state(state_to_expand):\n",
    "            if next_state not in visited:\n",
    "                if end_check(next_state):\n",
    "                    return states_list + [next_state]\n",
    "                visited.add(next_state)\n",
    "                states_queue.append(states_list + [next_state])\n",
    "    return []"
   ]
  },
  {
   "cell_type": "code",
   "execution_count": 42,
   "id": "af33235b-2515-4cf7-a553-68eec518e6e6",
   "metadata": {},
   "outputs": [],
   "source": [
    "def visualise_path(path):\n",
    "    for states in zip(path, path[1:]):\n",
    "        old_state, new_state = states\n",
    "        for row in new_state:\n",
    "            print(' '.join(map(str, row)))\n",
    "        \n",
    "        print()"
   ]
  },
  {
   "cell_type": "code",
   "execution_count": 43,
   "id": "22aba6a0-876e-4d2b-8e84-67ce27b8a423",
   "metadata": {},
   "outputs": [],
   "source": [
    "chess = ((0,0,0,0,0,0,0,0),(0,0,0,0,0,0,3,0),(0,0,1,0,0,0,0,0),(0,0,0,0,0,0,0,0),(0,0,0,0,3,0,0,0),(0,0,0,0,0,0,0,0),(0,3,0,0,0,2,0,0),(0,0,0,0,0,0,0,0))"
   ]
  },
  {
   "cell_type": "code",
   "execution_count": 44,
   "id": "6444b980-bb7e-42cd-8a64-459e2547d76b",
   "metadata": {},
   "outputs": [],
   "source": [
    "a = search_path(chess)\n",
    "visualise_path(a)"
   ]
  },
  {
   "cell_type": "code",
   "execution_count": null,
   "id": "85a5d181-16db-4213-83c7-49ce384799f6",
   "metadata": {},
   "outputs": [],
   "source": []
  }
 ],
 "metadata": {
  "kernelspec": {
   "display_name": "Python 3 (ipykernel)",
   "language": "python",
   "name": "python3"
  },
  "language_info": {
   "codemirror_mode": {
    "name": "ipython",
    "version": 3
   },
   "file_extension": ".py",
   "mimetype": "text/x-python",
   "name": "python",
   "nbconvert_exporter": "python",
   "pygments_lexer": "ipython3",
   "version": "3.11.6"
  }
 },
 "nbformat": 4,
 "nbformat_minor": 5
}
